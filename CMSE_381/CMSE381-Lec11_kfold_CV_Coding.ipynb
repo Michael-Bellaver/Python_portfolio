{
 "cells": [
  {
   "cell_type": "markdown",
   "id": "4dfd68f5",
   "metadata": {},
   "source": [
    "# Lab: K-Fold CV \n",
    "## CMSE 381 - Fall 2022\n",
    "## Oct 5,  2022. Lecture 11\n",
    "\n"
   ]
  },
  {
   "cell_type": "code",
   "execution_count": 1,
   "id": "4ea3a4b4",
   "metadata": {},
   "outputs": [],
   "source": [
    "# Everyone's favorite standard imports\n",
    "import numpy as np\n",
    "import pandas as pd\n",
    "import matplotlib.pyplot as plt\n",
    "%matplotlib inline\n",
    "\n",
    "from sklearn.linear_model import LinearRegression\n",
    "from sklearn.metrics import mean_squared_error"
   ]
  },
  {
   "cell_type": "markdown",
   "id": "8c97fb9a",
   "metadata": {},
   "source": [
    "# 1. Roll your own $k$-fold\n",
    "\n",
    "Ok, let's try to get a handle on what this $k$-fold CV is doing with our data. To do that, we're going to build our own $k$-fold splitter before we use the provided tools in `scikitlearn`. Of course, this is not going to be optimized at all, the goal is just to figure out how the innards are working. \n",
    "\n",
    "&#9989; **<font color=red>Do this:</font>** Below is the skeleton of code that will return the $k$-fold train/test splits. Update the code where noted to make it work. \n",
    "\n",
    "How do you check that your code is doing what you want? \n",
    "- Make sure you end up with $k$ splits \n",
    "- Make sure that each of the testing splits has $n/k$ data points\n",
    "- Make sure that the rest of the data points end up in the training set. \n",
    "- A good check is to see that you have all $n$ data points between the training and testing set every time."
   ]
  },
  {
   "cell_type": "code",
   "execution_count": 139,
   "id": "c1cf303c",
   "metadata": {},
   "outputs": [
    {
     "data": {
      "text/plain": [
       "[{'train': array([11, 17,  4, 14,  3, 27, 24,  9, 10, 29, 28, 25, 21, 20, 19,  2, 16,\n",
       "          6,  0, 18,  1, 26, 22, 23]),\n",
       "  'test': array([ 7,  5,  8, 15, 12, 13])},\n",
       " {'train': array([ 7,  5,  8, 15, 12, 13, 24,  9, 10, 29, 28, 25, 21, 20, 19,  2, 16,\n",
       "          6,  0, 18,  1, 26, 22, 23]),\n",
       "  'test': array([11, 17,  4, 14,  3, 27])},\n",
       " {'train': array([ 7,  5,  8, 15, 12, 13, 11, 17,  4, 14,  3, 27, 21, 20, 19,  2, 16,\n",
       "          6,  0, 18,  1, 26, 22, 23]),\n",
       "  'test': array([24,  9, 10, 29, 28, 25])},\n",
       " {'train': array([ 7,  5,  8, 15, 12, 13, 11, 17,  4, 14,  3, 27, 24,  9, 10, 29, 28,\n",
       "         25,  0, 18,  1, 26, 22, 23]),\n",
       "  'test': array([21, 20, 19,  2, 16,  6])},\n",
       " {'train': array([ 7,  5,  8, 15, 12, 13, 11, 17,  4, 14,  3, 27, 24,  9, 10, 29, 28,\n",
       "         25, 21, 20, 19,  2, 16,  6]),\n",
       "  'test': array([ 0, 18,  1, 26, 22, 23])}]"
      ]
     },
     "execution_count": 139,
     "metadata": {},
     "output_type": "execute_result"
    }
   ],
   "source": [
    "def mykfold(n,k):\n",
    "    # Input: integers n and k.\n",
    "    #        This version is only going to allow us to work with  \n",
    "    #        a $k$ that is actually divisible by $n$ \n",
    "    # Output: a list of the train/test splits to be used.\n",
    "    \n",
    "    # This command is just going to make a warning so that if you pass in \n",
    "    # n and k not divisble, the code will kick you out.     \n",
    "    assert (n % k == 0), \"k doesn't divide n, this code can't handle it\"\n",
    "    \n",
    "    # Make an array of the indices:\n",
    "    all_my_indices = np.array(range(n))\n",
    "    \n",
    "    \n",
    "    # First, shuffle your array to make sure we're working with randomized order.\n",
    "    # ----your code here to shuffle----# \n",
    "    np.random.shuffle(all_my_indices)\n",
    "    \n",
    "    # Write an equation that will figure out the length of each fold below\n",
    "    length_of_fold = n//k #<----- fix this\n",
    "    \n",
    "    \n",
    "    # Now we're going to keep a list of all your splits. Modify the code below so that \n",
    "    # you can keep track of the training and testing splits.\n",
    "    AllSplits = []\n",
    "\n",
    "    for i in range(k):\n",
    "        \n",
    "        test_set = all_my_indices[int(i*length_of_fold) : int((i+1)*length_of_fold)] #<------ fix this\n",
    "        training_set = np.delete(all_my_indices,range(int(i*length_of_fold), int((i+1)*length_of_fold))) #<------ fix this, too\n",
    "        AllSplits.append({'train': training_set, 'test':test_set})\n",
    "    \n",
    "    return AllSplits\n",
    " \n",
    "n = 30\n",
    "k = 5\n",
    "mykfold(n,k)\n",
    "    "
   ]
  },
  {
   "cell_type": "markdown",
   "id": "f74be4c2",
   "metadata": {},
   "source": [
    "Now we are going to fix the code above to allow for $n$ not divisible by $k$. We want to take all the leftover data points from dividing the folds evenly and just add them to the first folds. Below is one way to figure out how long each fold should be in this more general case. "
   ]
  },
  {
   "cell_type": "code",
   "execution_count": 116,
   "id": "103315ac",
   "metadata": {},
   "outputs": [
    {
     "name": "stdout",
     "output_type": "stream",
     "text": [
      "[7, 7, 7, 6, 6]\n",
      "33\n"
     ]
    }
   ],
   "source": [
    "n = 33\n",
    "k = 5\n",
    "\n",
    "length_of_each_fold = [n//k for i in range(k)]\n",
    "\n",
    "for i in range(n % k):\n",
    "    length_of_each_fold[i]+=1\n",
    "    \n",
    "print(length_of_each_fold)\n",
    "print(np.sum(length_of_each_fold))"
   ]
  },
  {
   "cell_type": "markdown",
   "id": "f1e60960",
   "metadata": {},
   "source": [
    "&#9989; **<font color=red>Do this:</font>** Copy your `mykfold` function down here.  Modify it so that it can accept $n$ and $k$ that aren't divisible. "
   ]
  },
  {
   "cell_type": "code",
   "execution_count": 127,
   "id": "15a8879f",
   "metadata": {},
   "outputs": [
    {
     "ename": "TypeError",
     "evalue": "'NoneType' object is not subscriptable",
     "output_type": "error",
     "traceback": [
      "\u001b[1;31m---------------------------------------------------------------------------\u001b[0m",
      "\u001b[1;31mTypeError\u001b[0m                                 Traceback (most recent call last)",
      "Input \u001b[1;32mIn [127]\u001b[0m, in \u001b[0;36m<cell line: 37>\u001b[1;34m()\u001b[0m\n\u001b[0;32m     35\u001b[0m n \u001b[38;5;241m=\u001b[39m \u001b[38;5;241m33\u001b[39m\n\u001b[0;32m     36\u001b[0m k \u001b[38;5;241m=\u001b[39m \u001b[38;5;241m5\u001b[39m\n\u001b[1;32m---> 37\u001b[0m \u001b[43mmykfold\u001b[49m\u001b[43m(\u001b[49m\u001b[43mn\u001b[49m\u001b[43m,\u001b[49m\u001b[43mk\u001b[49m\u001b[43m)\u001b[49m\n",
      "Input \u001b[1;32mIn [127]\u001b[0m, in \u001b[0;36mmykfold\u001b[1;34m(n, k)\u001b[0m\n\u001b[0;32m     26\u001b[0m AllSplits \u001b[38;5;241m=\u001b[39m []\n\u001b[0;32m     27\u001b[0m \u001b[38;5;28;01mfor\u001b[39;00m i \u001b[38;5;129;01min\u001b[39;00m \u001b[38;5;28mrange\u001b[39m(k):\n\u001b[1;32m---> 29\u001b[0m     test_set \u001b[38;5;241m=\u001b[39m \u001b[43mall_my_indices\u001b[49m\u001b[43m[\u001b[49m\u001b[38;5;28;43mint\u001b[39;49m\u001b[43m(\u001b[49m\u001b[43mi\u001b[49m\u001b[38;5;241;43m*\u001b[39;49m\u001b[43mlength_of_each_fold\u001b[49m\u001b[43m[\u001b[49m\u001b[43mi\u001b[49m\u001b[43m]\u001b[49m\u001b[43m)\u001b[49m\u001b[43m \u001b[49m\u001b[43m:\u001b[49m\u001b[43m \u001b[49m\u001b[38;5;28;43mint\u001b[39;49m\u001b[43m(\u001b[49m\u001b[43m(\u001b[49m\u001b[43mi\u001b[49m\u001b[38;5;241;43m+\u001b[39;49m\u001b[38;5;241;43m1\u001b[39;49m\u001b[43m)\u001b[49m\u001b[38;5;241;43m*\u001b[39;49m\u001b[43mlength_of_each_fold\u001b[49m\u001b[43m[\u001b[49m\u001b[43mi\u001b[49m\u001b[43m]\u001b[49m\u001b[43m)\u001b[49m\u001b[43m]\u001b[49m \u001b[38;5;66;03m#<------ fix this\u001b[39;00m\n\u001b[0;32m     30\u001b[0m     training_set \u001b[38;5;241m=\u001b[39m np\u001b[38;5;241m.\u001b[39mdelete(all_my_indices, np\u001b[38;5;241m.\u001b[39ms_[\u001b[38;5;28mint\u001b[39m(i\u001b[38;5;241m*\u001b[39mlength_of_each_fold[i]) : \u001b[38;5;28mint\u001b[39m((i\u001b[38;5;241m+\u001b[39m\u001b[38;5;241m1\u001b[39m)\u001b[38;5;241m*\u001b[39mlength_of_each_fold[i])])\n\u001b[0;32m     31\u001b[0m     AllSplits\u001b[38;5;241m.\u001b[39mappend({\u001b[38;5;124m'\u001b[39m\u001b[38;5;124mtrain\u001b[39m\u001b[38;5;124m'\u001b[39m: training_set, \u001b[38;5;124m'\u001b[39m\u001b[38;5;124mtest\u001b[39m\u001b[38;5;124m'\u001b[39m:test_set})\n",
      "\u001b[1;31mTypeError\u001b[0m: 'NoneType' object is not subscriptable"
     ]
    }
   ],
   "source": [
    "# Your code here #\n",
    "def mykfold(n,k):\n",
    "    # Input: integers n and k.\n",
    "    #        This version is only going to allow us to work with  \n",
    "    #        a $k$ that is actually divisible by $n$ \n",
    "    # Output: a list of the train/test splits to be used.\n",
    "    \n",
    "    # This command is just going to make a warning so that if you pass in\n",
    "    \n",
    "    # Make an array of the indices:\n",
    "    all_my_indices = np.array(range(n))\n",
    "    \n",
    "    \n",
    "    # First, shuffle your array to make sure we're working with randomized order.\n",
    "    # ----your code here to shuffle----# \n",
    "    all_my_indices = np.random.shuffle(all_my_indices)\n",
    "    \n",
    "    # Write an equation that will figure out the length of each fold below\n",
    "    length_of_each_fold = [n//k for i in range(k)]\n",
    "\n",
    "    for i in range(n % k):\n",
    "        length_of_each_fold[i]+=1    \n",
    "    \n",
    "    # Now we're going to keep a list of all your splits. Modify the code below so that \n",
    "    # you can keep track of the training and testing splits.\n",
    "    AllSplits = []\n",
    "    for i in range(k):\n",
    "        \n",
    "        test_set = all_my_indices[int(i*length_of_each_fold[i]) : int((i+1)*length_of_each_fold[i])] #<------ fix this\n",
    "        training_set = np.delete(all_my_indices, np.s_[int(i*length_of_each_fold[i]) : int((i+1)*length_of_each_fold)])\n",
    "        AllSplits.append({'train': training_set, 'test':test_set})\n",
    "    \n",
    "    return AllSplits\n",
    "\n",
    "n = 33\n",
    "k = 5\n",
    "mykfold(n,k)\n",
    "    "
   ]
  },
  {
   "cell_type": "markdown",
   "id": "f6fd52f9",
   "metadata": {},
   "source": [
    "# 2. Letting scikitlearn do the work for us. \n",
    "\n",
    "Ok, now that we understand the innards, we can let `scikitlearn` do this for us. Let's get our toy data set back to mess with this.  \n",
    "\n"
   ]
  },
  {
   "cell_type": "code",
   "execution_count": 118,
   "id": "96e321f2",
   "metadata": {},
   "outputs": [
    {
     "data": {
      "text/plain": [
       "[<matplotlib.lines.Line2D at 0x1c3eee6d220>]"
      ]
     },
     "execution_count": 118,
     "metadata": {},
     "output_type": "execute_result"
    },
    {
     "data": {
      "image/png": "[encoded data removed]",
      "text/plain": [
       "<Figure size 432x288 with 1 Axes>"
      ]
     },
     "metadata": {
      "needs_background": "light"
     },
     "output_type": "display_data"
    }
   ],
   "source": [
    "# Set the seed so everyone has the same numbers\n",
    "np.random.seed(42)\n",
    "\n",
    "def f(t, m = -3, b = 2):\n",
    "    return m*t+b\n",
    "\n",
    "n = 300\n",
    "X_toy = np.random.uniform(0,5,n)\n",
    "y_toy = f(X_toy) + np.random.normal(0,2,n)\n",
    "\n",
    "plt.scatter(X_toy,y_toy)\n",
    "plt.plot(X_toy,f(X_toy),c = 'red')"
   ]
  },
  {
   "cell_type": "code",
   "execution_count": 119,
   "id": "695c4c0a",
   "metadata": {},
   "outputs": [
    {
     "name": "stdout",
     "output_type": "stream",
     "text": [
      "KFold(n_splits=3, random_state=None, shuffle=False)\n"
     ]
    }
   ],
   "source": [
    "from sklearn.model_selection import KFold\n",
    "\n",
    "kf = KFold(n_splits=3)\n",
    "\n",
    "# Notice that like the leave one out version, trying to print kf still doesn't \n",
    "# give us much that's useful\n",
    "print(kf)"
   ]
  },
  {
   "cell_type": "code",
   "execution_count": 120,
   "id": "e6a6dbe0",
   "metadata": {},
   "outputs": [
    {
     "name": "stdout",
     "output_type": "stream",
     "text": [
      "TRAIN: [100 101 102 103 104 105 106 107 108 109 110 111 112 113 114 115 116 117\n",
      " 118 119 120 121 122 123 124 125 126 127 128 129 130 131 132 133 134 135\n",
      " 136 137 138 139 140 141 142 143 144 145 146 147 148 149 150 151 152 153\n",
      " 154 155 156 157 158 159 160 161 162 163 164 165 166 167 168 169 170 171\n",
      " 172 173 174 175 176 177 178 179 180 181 182 183 184 185 186 187 188 189\n",
      " 190 191 192 193 194 195 196 197 198 199 200 201 202 203 204 205 206 207\n",
      " 208 209 210 211 212 213 214 215 216 217 218 219 220 221 222 223 224 225\n",
      " 226 227 228 229 230 231 232 233 234 235 236 237 238 239 240 241 242 243\n",
      " 244 245 246 247 248 249 250 251 252 253 254 255 256 257 258 259 260 261\n",
      " 262 263 264 265 266 267 268 269 270 271 272 273 274 275 276 277 278 279\n",
      " 280 281 282 283 284 285 286 287 288 289 290 291 292 293 294 295 296 297\n",
      " 298 299] \n",
      "TEST: [ 0  1  2  3  4  5  6  7  8  9 10 11 12 13 14 15 16 17 18 19 20 21 22 23\n",
      " 24 25 26 27 28 29 30 31 32 33 34 35 36 37 38 39 40 41 42 43 44 45 46 47\n",
      " 48 49 50 51 52 53 54 55 56 57 58 59 60 61 62 63 64 65 66 67 68 69 70 71\n",
      " 72 73 74 75 76 77 78 79 80 81 82 83 84 85 86 87 88 89 90 91 92 93 94 95\n",
      " 96 97 98 99] \n",
      "\n",
      "TRAIN: [  0   1   2   3   4   5   6   7   8   9  10  11  12  13  14  15  16  17\n",
      "  18  19  20  21  22  23  24  25  26  27  28  29  30  31  32  33  34  35\n",
      "  36  37  38  39  40  41  42  43  44  45  46  47  48  49  50  51  52  53\n",
      "  54  55  56  57  58  59  60  61  62  63  64  65  66  67  68  69  70  71\n",
      "  72  73  74  75  76  77  78  79  80  81  82  83  84  85  86  87  88  89\n",
      "  90  91  92  93  94  95  96  97  98  99 200 201 202 203 204 205 206 207\n",
      " 208 209 210 211 212 213 214 215 216 217 218 219 220 221 222 223 224 225\n",
      " 226 227 228 229 230 231 232 233 234 235 236 237 238 239 240 241 242 243\n",
      " 244 245 246 247 248 249 250 251 252 253 254 255 256 257 258 259 260 261\n",
      " 262 263 264 265 266 267 268 269 270 271 272 273 274 275 276 277 278 279\n",
      " 280 281 282 283 284 285 286 287 288 289 290 291 292 293 294 295 296 297\n",
      " 298 299] \n",
      "TEST: [100 101 102 103 104 105 106 107 108 109 110 111 112 113 114 115 116 117\n",
      " 118 119 120 121 122 123 124 125 126 127 128 129 130 131 132 133 134 135\n",
      " 136 137 138 139 140 141 142 143 144 145 146 147 148 149 150 151 152 153\n",
      " 154 155 156 157 158 159 160 161 162 163 164 165 166 167 168 169 170 171\n",
      " 172 173 174 175 176 177 178 179 180 181 182 183 184 185 186 187 188 189\n",
      " 190 191 192 193 194 195 196 197 198 199] \n",
      "\n",
      "TRAIN: [  0   1   2   3   4   5   6   7   8   9  10  11  12  13  14  15  16  17\n",
      "  18  19  20  21  22  23  24  25  26  27  28  29  30  31  32  33  34  35\n",
      "  36  37  38  39  40  41  42  43  44  45  46  47  48  49  50  51  52  53\n",
      "  54  55  56  57  58  59  60  61  62  63  64  65  66  67  68  69  70  71\n",
      "  72  73  74  75  76  77  78  79  80  81  82  83  84  85  86  87  88  89\n",
      "  90  91  92  93  94  95  96  97  98  99 100 101 102 103 104 105 106 107\n",
      " 108 109 110 111 112 113 114 115 116 117 118 119 120 121 122 123 124 125\n",
      " 126 127 128 129 130 131 132 133 134 135 136 137 138 139 140 141 142 143\n",
      " 144 145 146 147 148 149 150 151 152 153 154 155 156 157 158 159 160 161\n",
      " 162 163 164 165 166 167 168 169 170 171 172 173 174 175 176 177 178 179\n",
      " 180 181 182 183 184 185 186 187 188 189 190 191 192 193 194 195 196 197\n",
      " 198 199] \n",
      "TEST: [200 201 202 203 204 205 206 207 208 209 210 211 212 213 214 215 216 217\n",
      " 218 219 220 221 222 223 224 225 226 227 228 229 230 231 232 233 234 235\n",
      " 236 237 238 239 240 241 242 243 244 245 246 247 248 249 250 251 252 253\n",
      " 254 255 256 257 258 259 260 261 262 263 264 265 266 267 268 269 270 271\n",
      " 272 273 274 275 276 277 278 279 280 281 282 283 284 285 286 287 288 289\n",
      " 290 291 292 293 294 295 296 297 298 299] \n",
      "\n"
     ]
    }
   ],
   "source": [
    "for train_index, test_index in kf.split(X_toy):\n",
    "    print(\"TRAIN:\", train_index, \"\\nTEST:\", test_index, '\\n')\n",
    "    X_train, X_test = X_toy[train_index], X_toy[test_index]\n",
    "    y_train, y_test = y_toy[train_index], y_toy[test_index]"
   ]
  },
  {
   "cell_type": "markdown",
   "id": "0a260d25",
   "metadata": {},
   "source": [
    "There is a BIG PROBLEM with this code.  We haven't done something!!! Something important!!!\n",
    "\n",
    "&#9989; **<font color=red>Q:</font>** What didn't we do? This is an easy fix, checkout the [documentation for `KFold`](https://scikit-learn.org/stable/modules/generated/sklearn.model_selection.KFold.html), then modify the code below to fix the problem. \n",
    "\n"
   ]
  },
  {
   "cell_type": "code",
   "execution_count": 121,
   "id": "de9cac07",
   "metadata": {},
   "outputs": [
    {
     "name": "stdout",
     "output_type": "stream",
     "text": [
      "TRAIN: [  0   4   9  10  12  13  14  16  19  21  22  23  24  25  26  27  28  30\n",
      "  32  34  35  36  37  38  39  40  41  42  45  46  48  50  51  52  53  54\n",
      "  56  58  59  61  62  65  66  67  68  69  70  71  73  74  75  77  80  83\n",
      "  84  85  87  88  89  90  91  93  94  96  99 100 103 105 106 107 108 109\n",
      " 110 113 114 116 117 118 119 121 122 124 126 129 131 132 133 134 135 136\n",
      " 137 138 139 140 142 144 146 147 149 152 153 154 155 156 158 159 160 163\n",
      " 164 167 170 171 172 173 174 175 177 178 179 180 182 183 184 186 187 190\n",
      " 191 192 193 195 196 197 199 201 204 205 206 208 209 212 213 214 219 220\n",
      " 221 222 224 225 226 227 228 229 230 231 232 235 236 237 238 239 240 241\n",
      " 243 244 245 246 248 249 251 252 254 255 256 257 258 259 260 261 263 264\n",
      " 265 266 269 271 272 273 275 276 277 278 279 281 282 284 285 286 287 288\n",
      " 289 295] \n",
      "TEST: [  1   2   3   5   6   7   8  11  15  17  18  20  29  31  33  43  44  47\n",
      "  49  55  57  60  63  64  72  76  78  79  81  82  86  92  95  97  98 101\n",
      " 102 104 111 112 115 120 123 125 127 128 130 141 143 145 148 150 151 157\n",
      " 161 162 165 166 168 169 176 181 185 188 189 194 198 200 202 203 207 210\n",
      " 211 215 216 217 218 223 233 234 242 247 250 253 262 267 268 270 274 280\n",
      " 283 290 291 292 293 294 296 297 298 299] \n",
      "\n",
      "TRAIN: [  0   1   2   3   4   5   6   7   8   9  11  12  13  14  15  17  18  20\n",
      "  22  29  31  32  33  34  37  38  41  43  44  46  47  49  52  55  57  59\n",
      "  60  61  62  63  64  65  66  68  72  73  75  76  77  78  79  81  82  83\n",
      "  85  86  88  92  93  94  95  96  97  98 100 101 102 103 104 108 110 111\n",
      " 112 115 117 120 122 123 124 125 127 128 129 130 131 133 134 135 136 137\n",
      " 138 140 141 142 143 144 145 148 150 151 152 154 156 157 158 160 161 162\n",
      " 163 164 165 166 167 168 169 171 176 177 178 179 181 182 183 184 185 188\n",
      " 189 191 193 194 195 197 198 199 200 202 203 205 207 210 211 212 215 216\n",
      " 217 218 221 222 223 224 225 227 228 229 230 232 233 234 235 236 238 241\n",
      " 242 243 245 246 247 250 251 253 254 258 259 260 261 262 263 264 265 266\n",
      " 267 268 269 270 272 274 280 283 284 286 290 291 292 293 294 295 296 297\n",
      " 298 299] \n",
      "TEST: [ 10  16  19  21  23  24  25  26  27  28  30  35  36  39  40  42  45  48\n",
      "  50  51  53  54  56  58  67  69  70  71  74  80  84  87  89  90  91  99\n",
      " 105 106 107 109 113 114 116 118 119 121 126 132 139 146 147 149 153 155\n",
      " 159 170 172 173 174 175 180 186 187 190 192 196 201 204 206 208 209 213\n",
      " 214 219 220 226 231 237 239 240 244 248 249 252 255 256 257 271 273 275\n",
      " 276 277 278 279 281 282 285 287 288 289] \n",
      "\n",
      "TRAIN: [  1   2   3   5   6   7   8  10  11  15  16  17  18  19  20  21  23  24\n",
      "  25  26  27  28  29  30  31  33  35  36  39  40  42  43  44  45  47  48\n",
      "  49  50  51  53  54  55  56  57  58  60  63  64  67  69  70  71  72  74\n",
      "  76  78  79  80  81  82  84  86  87  89  90  91  92  95  97  98  99 101\n",
      " 102 104 105 106 107 109 111 112 113 114 115 116 118 119 120 121 123 125\n",
      " 126 127 128 130 132 139 141 143 145 146 147 148 149 150 151 153 155 157\n",
      " 159 161 162 165 166 168 169 170 172 173 174 175 176 180 181 185 186 187\n",
      " 188 189 190 192 194 196 198 200 201 202 203 204 206 207 208 209 210 211\n",
      " 213 214 215 216 217 218 219 220 223 226 231 233 234 237 239 240 242 244\n",
      " 247 248 249 250 252 253 255 256 257 262 267 268 270 271 273 274 275 276\n",
      " 277 278 279 280 281 282 283 285 287 288 289 290 291 292 293 294 296 297\n",
      " 298 299] \n",
      "TEST: [  0   4   9  12  13  14  22  32  34  37  38  41  46  52  59  61  62  65\n",
      "  66  68  73  75  77  83  85  88  93  94  96 100 103 108 110 117 122 124\n",
      " 129 131 133 134 135 136 137 138 140 142 144 152 154 156 158 160 163 164\n",
      " 167 171 177 178 179 182 183 184 191 193 195 197 199 205 212 221 222 224\n",
      " 225 227 228 229 230 232 235 236 238 241 243 245 246 251 254 258 259 260\n",
      " 261 263 264 265 266 269 272 284 286 295] \n",
      "\n"
     ]
    }
   ],
   "source": [
    "# Fix this code! \n",
    "kf = KFold(n_splits=3, shuffle = True)\n",
    "\n",
    "for train_index, test_index in kf.split(X_toy):\n",
    "    print(\"TRAIN:\", train_index, \"\\nTEST:\", test_index, '\\n')\n",
    "    X_train, X_test = X_toy[train_index], X_toy[test_index]\n",
    "    y_train, y_test = y_toy[train_index], y_toy[test_index]"
   ]
  },
  {
   "cell_type": "markdown",
   "id": "2b8a9941",
   "metadata": {},
   "source": [
    "Now that we have our train/test split generator set up, let's take a look at the result. Note that this is just going to color by the last split generated in that for loop up above. "
   ]
  },
  {
   "cell_type": "code",
   "execution_count": 122,
   "id": "f269e617",
   "metadata": {},
   "outputs": [
    {
     "data": {
      "text/plain": [
       "<matplotlib.legend.Legend at 0x1c3ef0ab340>"
      ]
     },
     "execution_count": 122,
     "metadata": {},
     "output_type": "execute_result"
    },
    {
     "data": {
      "image/png": "[encoded data removed]",
      "text/plain": [
       "<Figure size 432x288 with 1 Axes>"
      ]
     },
     "metadata": {
      "needs_background": "light"
     },
     "output_type": "display_data"
    }
   ],
   "source": [
    "plt.scatter(X_train,y_train, marker = '+', label = \"Training\")\n",
    "plt.scatter(X_test,y_test, marker = '*', label = \"Testing\")\n",
    "plt.legend()"
   ]
  },
  {
   "cell_type": "markdown",
   "id": "9500f236",
   "metadata": {},
   "source": [
    "&#9989; **<font color=red>Q:</font>** Below is my code from last class to train our linear regression model, again just using that last train/test split. Fix this so that it uses every k-fold train/test split ($k=5$) and returns the average of the MSEs. \n"
   ]
  },
  {
   "cell_type": "code",
   "execution_count": 126,
   "id": "39f062b2",
   "metadata": {},
   "outputs": [
    {
     "name": "stdout",
     "output_type": "stream",
     "text": [
      "3.9306362274255395\n"
     ]
    }
   ],
   "source": [
    "# Your code goes here\n",
    "MSE = []\n",
    "kf = KFold(n_splits=3, shuffle = True)\n",
    "\n",
    "for train_index, test_index in kf.split(X_toy):\n",
    "    X_train, X_test = X_toy[train_index], X_toy[test_index]\n",
    "    y_train, y_test = y_toy[train_index], y_toy[test_index]\n",
    "\n",
    "\n",
    "    model = LinearRegression()\n",
    "    model.fit(X_train.reshape(-1,1),y_train)\n",
    "    y_hat = model.predict(X_test.reshape(-1,1))\n",
    "\n",
    "    mse = mean_squared_error(y_hat,y_test)\n",
    "    MSE.append(mse)\n",
    "    \n",
    "print(np.mean(MSE))"
   ]
  },
  {
   "cell_type": "markdown",
   "id": "7f342e47",
   "metadata": {},
   "source": [
    "&#9989; **<font color=red>Q:</font>** What happens if you set `n_splits = n`? "
   ]
  },
  {
   "cell_type": "markdown",
   "id": "ca51e030",
   "metadata": {},
   "source": [
    "it turns into a LOOCV"
   ]
  },
  {
   "cell_type": "markdown",
   "id": "430024cc",
   "metadata": {},
   "source": [
    "\n",
    "![Stop Icon](https://upload.wikimedia.org/wikipedia/commons/thumb/1/1e/Vienna_Convention_road_sign_B2a.svg/180px-Vienna_Convention_road_sign_B2a.svg.png)\n",
    "\n",
    "Great, you got to here! Hang out for a bit, there's more lecture before we go on to the next portion. "
   ]
  },
  {
   "cell_type": "markdown",
   "id": "006fbd25",
   "metadata": {},
   "source": [
    "# 2. Setting this up on a slightly more complicated data set. \n",
    "\n",
    "Ok, let's see how this is used for determining parameters. Below, we're going to generate a data set that is clearly non-linear. "
   ]
  },
  {
   "cell_type": "code",
   "execution_count": 128,
   "id": "7aa8b2a3",
   "metadata": {},
   "outputs": [
    {
     "data": {
      "text/plain": [
       "[<matplotlib.lines.Line2D at 0x1c3ef1619d0>]"
      ]
     },
     "execution_count": 128,
     "metadata": {},
     "output_type": "execute_result"
    },
    {
     "data": {
      "image/png": "[encoded data removed]",
      "text/plain": [
       "<Figure size 432x288 with 1 Axes>"
      ]
     },
     "metadata": {
      "needs_background": "light"
     },
     "output_type": "display_data"
    }
   ],
   "source": [
    "# Set the seed so everyone has the same numbers\n",
    "np.random.seed(42)\n",
    "\n",
    "def f(t, m1 = -7,m2 = 5, m3 = -.8, b = 6):\n",
    "    return m3 * t**3 + m2*t**2 + m1*t+b\n",
    "\n",
    "n = 300\n",
    "X_toy = np.random.uniform(0,5,n)\n",
    "y_toy = f(X_toy) + np.random.normal(0,2,n)\n",
    "\n",
    "plt.scatter(X_toy,y_toy)\n",
    "\n",
    "# Doing this so the plot isn't ugly\n",
    "X_plot = X_toy.copy()\n",
    "X_plot.sort()\n",
    "plt.plot(X_plot,f(X_plot),c = 'red')"
   ]
  },
  {
   "cell_type": "markdown",
   "id": "557bb101",
   "metadata": {},
   "source": [
    "&#9989; **<font color=red>Do this:</font>** Using $k$-fold cross validation for $k=5$, set up code to approximate the test error for each of the polynomial models below. \n",
    "- $y = \\beta_0 + \\beta_1 X$\n",
    "- $y = \\beta_0 + \\beta_1 X + \\beta_2 X^2$\n",
    "- $y = \\beta_0 + \\beta_1 X+ \\beta_2 X^2+ \\beta_3 X^3$\n",
    "- $y = \\beta_0 + \\beta_1 X+ \\beta_2 X^2+ \\beta_3 X^3+ \\beta_4 X^4$\n",
    "- $y = \\beta_0 + \\beta_1 X+ \\beta_2 X^2+ \\beta_3 X^3+ \\beta_4 X^4+ \\beta_5 X^5$\n",
    "- $y = \\beta_0 + \\beta_1 X+ \\beta_2 X^2+ \\beta_3 X^3+ \\beta_4 X^4+ \\beta_5 X^5+ \\beta_6 X^6$\n",
    "\n",
    "Then plot your resulting test errors for each to deterimine best choice of polynomial for this data set. "
   ]
  },
  {
   "cell_type": "code",
   "execution_count": 146,
   "id": "a58897f9",
   "metadata": {},
   "outputs": [
    {
     "data": {
      "text/plain": [
       "10.53020486424797"
      ]
     },
     "execution_count": 146,
     "metadata": {},
     "output_type": "execute_result"
    }
   ],
   "source": [
    "# Your code here\n",
    "MSE = []\n",
    "kf = KFold(n_splits=5, shuffle = True)\n",
    "\n",
    "for train_index, test_index in kf.split(X_toy):\n",
    "    X_train, X_test = X_toy[train_index], X_toy[test_index]\n",
    "    y_train, y_test = y_toy[train_index], y_toy[test_index]\n",
    "\n",
    "\n",
    "    model = LinearRegression()\n",
    "    model.fit(X_train.reshape(-1,1),y_train)\n",
    "    y_hat = model.predict(X_test.reshape(-1,1))\n",
    "\n",
    "    MSE.append(mean_squared_error(y_hat,y_test))\n",
    "    \n",
    "np.mean(MSE)"
   ]
  },
  {
   "cell_type": "markdown",
   "id": "ea9a5ce5",
   "metadata": {},
   "source": [
    "If you still have some time, try to see if you can figure out the test errors for everything through a degree 10 polynomial. "
   ]
  },
  {
   "cell_type": "markdown",
   "id": "66f79113",
   "metadata": {},
   "source": [
    "\n",
    "\n",
    "-----\n",
    "### Congratulations, we're done!\n",
    "Written by Dr. Liz Munch, Michigan State University\n",
    "\n",
    "<a rel=\"license\" href=\"http://creativecommons.org/licenses/by-nc/4.0/\"><img alt=\"Creative Commons License\" style=\"border-width:0\" src=\"https://i.creativecommons.org/l/by-nc/4.0/88x31.png\" /></a><br />This work is licensed under a <a rel=\"license\" href=\"http://creativecommons.org/licenses/by-nc/4.0/\">Creative Commons Attribution-NonCommercial 4.0 International License</a>."
   ]
  },
  {
   "cell_type": "code",
   "execution_count": null,
   "id": "3fb8354f",
   "metadata": {},
   "outputs": [],
   "source": []
  }
 ],
 "metadata": {
  "kernelspec": {
   "display_name": "Python 3 (ipykernel)",
   "language": "python",
   "name": "python3"
  },
  "language_info": {
   "codemirror_mode": {
    "name": "ipython",
    "version": 3
   },
   "file_extension": ".py",
   "mimetype": "text/x-python",
   "name": "python",
   "nbconvert_exporter": "python",
   "pygments_lexer": "ipython3",
   "version": "3.9.12"
  },
  "vscode": {
   "interpreter": {
    "hash": "3e3338d56a43a0108f5ff8ffc1915439f9812d920a0d5bf5d66e4a60c981234a"
   }
  }
 },
 "nbformat": 4,
 "nbformat_minor": 5
}
