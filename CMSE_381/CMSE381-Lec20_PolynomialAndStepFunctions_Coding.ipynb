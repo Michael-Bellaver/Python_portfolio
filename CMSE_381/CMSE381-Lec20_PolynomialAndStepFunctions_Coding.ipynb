{
 "cells": [
  {
   "cell_type": "markdown",
   "id": "4dfd68f5",
   "metadata": {},
   "source": [
    "# Lec 20 - Polynomial Regression and Step Functions\n",
    "## CMSE 381 - Fall 2022\n",
    "## Nov 4, 2022\n",
    "\n"
   ]
  },
  {
   "cell_type": "markdown",
   "id": "c90aa0b0",
   "metadata": {},
   "source": [
    "In this module we are going to implement polynomial regression and step functions as discussed in class."
   ]
  },
  {
   "cell_type": "code",
   "execution_count": 1,
   "id": "4ea3a4b4",
   "metadata": {},
   "outputs": [],
   "source": [
    "# Everyone's favorite standard imports\n",
    "import numpy as np\n",
    "import pandas as pd\n",
    "import matplotlib.pyplot as plt\n",
    "%matplotlib inline\n",
    "import time\n",
    "\n",
    "\n",
    "# ML imports we've used previously\n",
    "from sklearn.model_selection import train_test_split\n",
    "from sklearn.metrics import mean_squared_error\n",
    "from sklearn.linear_model import LinearRegression\n",
    "\n",
    "\n",
    "import statsmodels.api as sm\n"
   ]
  },
  {
   "cell_type": "markdown",
   "id": "81f9a257",
   "metadata": {},
   "source": [
    "# 0. Loading in the data\n",
    "\n",
    "We're going to use the `Wage` data used in the book, so note that many of your plots can be checked by looking at figures in the book."
   ]
  },
  {
   "cell_type": "code",
   "execution_count": 2,
   "id": "3ceeb83a",
   "metadata": {},
   "outputs": [
    {
     "data": {
      "text/html": [
       "<div>\n",
       "<style scoped>\n",
       "    .dataframe tbody tr th:only-of-type {\n",
       "        vertical-align: middle;\n",
       "    }\n",
       "\n",
       "    .dataframe tbody tr th {\n",
       "        vertical-align: top;\n",
       "    }\n",
       "\n",
       "    .dataframe thead th {\n",
       "        text-align: right;\n",
       "    }\n",
       "</style>\n",
       "<table border=\"1\" class=\"dataframe\">\n",
       "  <thead>\n",
       "    <tr style=\"text-align: right;\">\n",
       "      <th></th>\n",
       "      <th>year</th>\n",
       "      <th>age</th>\n",
       "      <th>sex</th>\n",
       "      <th>maritl</th>\n",
       "      <th>race</th>\n",
       "      <th>education</th>\n",
       "      <th>region</th>\n",
       "      <th>jobclass</th>\n",
       "      <th>health</th>\n",
       "      <th>health_ins</th>\n",
       "      <th>logwage</th>\n",
       "      <th>wage</th>\n",
       "    </tr>\n",
       "  </thead>\n",
       "  <tbody>\n",
       "    <tr>\n",
       "      <th>231655</th>\n",
       "      <td>2006</td>\n",
       "      <td>18</td>\n",
       "      <td>1. Male</td>\n",
       "      <td>1. Never Married</td>\n",
       "      <td>1. White</td>\n",
       "      <td>1. &lt; HS Grad</td>\n",
       "      <td>2. Middle Atlantic</td>\n",
       "      <td>1. Industrial</td>\n",
       "      <td>1. &lt;=Good</td>\n",
       "      <td>2. No</td>\n",
       "      <td>4.318063</td>\n",
       "      <td>75.043154</td>\n",
       "    </tr>\n",
       "    <tr>\n",
       "      <th>86582</th>\n",
       "      <td>2004</td>\n",
       "      <td>24</td>\n",
       "      <td>1. Male</td>\n",
       "      <td>1. Never Married</td>\n",
       "      <td>1. White</td>\n",
       "      <td>4. College Grad</td>\n",
       "      <td>2. Middle Atlantic</td>\n",
       "      <td>2. Information</td>\n",
       "      <td>2. &gt;=Very Good</td>\n",
       "      <td>2. No</td>\n",
       "      <td>4.255273</td>\n",
       "      <td>70.476020</td>\n",
       "    </tr>\n",
       "    <tr>\n",
       "      <th>161300</th>\n",
       "      <td>2003</td>\n",
       "      <td>45</td>\n",
       "      <td>1. Male</td>\n",
       "      <td>2. Married</td>\n",
       "      <td>1. White</td>\n",
       "      <td>3. Some College</td>\n",
       "      <td>2. Middle Atlantic</td>\n",
       "      <td>1. Industrial</td>\n",
       "      <td>1. &lt;=Good</td>\n",
       "      <td>1. Yes</td>\n",
       "      <td>4.875061</td>\n",
       "      <td>130.982177</td>\n",
       "    </tr>\n",
       "    <tr>\n",
       "      <th>155159</th>\n",
       "      <td>2003</td>\n",
       "      <td>43</td>\n",
       "      <td>1. Male</td>\n",
       "      <td>2. Married</td>\n",
       "      <td>3. Asian</td>\n",
       "      <td>4. College Grad</td>\n",
       "      <td>2. Middle Atlantic</td>\n",
       "      <td>2. Information</td>\n",
       "      <td>2. &gt;=Very Good</td>\n",
       "      <td>1. Yes</td>\n",
       "      <td>5.041393</td>\n",
       "      <td>154.685293</td>\n",
       "    </tr>\n",
       "    <tr>\n",
       "      <th>11443</th>\n",
       "      <td>2005</td>\n",
       "      <td>50</td>\n",
       "      <td>1. Male</td>\n",
       "      <td>4. Divorced</td>\n",
       "      <td>1. White</td>\n",
       "      <td>2. HS Grad</td>\n",
       "      <td>2. Middle Atlantic</td>\n",
       "      <td>2. Information</td>\n",
       "      <td>1. &lt;=Good</td>\n",
       "      <td>1. Yes</td>\n",
       "      <td>4.318063</td>\n",
       "      <td>75.043154</td>\n",
       "    </tr>\n",
       "  </tbody>\n",
       "</table>\n",
       "</div>"
      ],
      "text/plain": [
       "        year  age      sex            maritl      race        education  \\\n",
       "231655  2006   18  1. Male  1. Never Married  1. White     1. < HS Grad   \n",
       "86582   2004   24  1. Male  1. Never Married  1. White  4. College Grad   \n",
       "161300  2003   45  1. Male        2. Married  1. White  3. Some College   \n",
       "155159  2003   43  1. Male        2. Married  3. Asian  4. College Grad   \n",
       "11443   2005   50  1. Male       4. Divorced  1. White       2. HS Grad   \n",
       "\n",
       "                    region        jobclass          health health_ins  \\\n",
       "231655  2. Middle Atlantic   1. Industrial       1. <=Good      2. No   \n",
       "86582   2. Middle Atlantic  2. Information  2. >=Very Good      2. No   \n",
       "161300  2. Middle Atlantic   1. Industrial       1. <=Good     1. Yes   \n",
       "155159  2. Middle Atlantic  2. Information  2. >=Very Good     1. Yes   \n",
       "11443   2. Middle Atlantic  2. Information       1. <=Good     1. Yes   \n",
       "\n",
       "         logwage        wage  \n",
       "231655  4.318063   75.043154  \n",
       "86582   4.255273   70.476020  \n",
       "161300  4.875061  130.982177  \n",
       "155159  5.041393  154.685293  \n",
       "11443   4.318063   75.043154  "
      ]
     },
     "execution_count": 2,
     "metadata": {},
     "output_type": "execute_result"
    }
   ],
   "source": [
    "df = pd.read_csv('Wage.csv', index_col =0 )\n",
    "df.head()"
   ]
  },
  {
   "cell_type": "code",
   "execution_count": 3,
   "id": "903ebb82",
   "metadata": {},
   "outputs": [
    {
     "name": "stdout",
     "output_type": "stream",
     "text": [
      "<class 'pandas.core.frame.DataFrame'>\n",
      "Int64Index: 3000 entries, 231655 to 453557\n",
      "Data columns (total 12 columns):\n",
      " #   Column      Non-Null Count  Dtype  \n",
      "---  ------      --------------  -----  \n",
      " 0   year        3000 non-null   int64  \n",
      " 1   age         3000 non-null   int64  \n",
      " 2   sex         3000 non-null   object \n",
      " 3   maritl      3000 non-null   object \n",
      " 4   race        3000 non-null   object \n",
      " 5   education   3000 non-null   object \n",
      " 6   region      3000 non-null   object \n",
      " 7   jobclass    3000 non-null   object \n",
      " 8   health      3000 non-null   object \n",
      " 9   health_ins  3000 non-null   object \n",
      " 10  logwage     3000 non-null   float64\n",
      " 11  wage        3000 non-null   float64\n",
      "dtypes: float64(2), int64(2), object(8)\n",
      "memory usage: 304.7+ KB\n"
     ]
    }
   ],
   "source": [
    "df.info()"
   ]
  },
  {
   "cell_type": "code",
   "execution_count": 4,
   "id": "1bc159e5",
   "metadata": {},
   "outputs": [
    {
     "data": {
      "text/html": [
       "<div>\n",
       "<style scoped>\n",
       "    .dataframe tbody tr th:only-of-type {\n",
       "        vertical-align: middle;\n",
       "    }\n",
       "\n",
       "    .dataframe tbody tr th {\n",
       "        vertical-align: top;\n",
       "    }\n",
       "\n",
       "    .dataframe thead th {\n",
       "        text-align: right;\n",
       "    }\n",
       "</style>\n",
       "<table border=\"1\" class=\"dataframe\">\n",
       "  <thead>\n",
       "    <tr style=\"text-align: right;\">\n",
       "      <th></th>\n",
       "      <th>year</th>\n",
       "      <th>age</th>\n",
       "      <th>logwage</th>\n",
       "      <th>wage</th>\n",
       "    </tr>\n",
       "  </thead>\n",
       "  <tbody>\n",
       "    <tr>\n",
       "      <th>count</th>\n",
       "      <td>3000.000000</td>\n",
       "      <td>3000.000000</td>\n",
       "      <td>3000.000000</td>\n",
       "      <td>3000.000000</td>\n",
       "    </tr>\n",
       "    <tr>\n",
       "      <th>mean</th>\n",
       "      <td>2005.791000</td>\n",
       "      <td>42.414667</td>\n",
       "      <td>4.653905</td>\n",
       "      <td>111.703608</td>\n",
       "    </tr>\n",
       "    <tr>\n",
       "      <th>std</th>\n",
       "      <td>2.026167</td>\n",
       "      <td>11.542406</td>\n",
       "      <td>0.351753</td>\n",
       "      <td>41.728595</td>\n",
       "    </tr>\n",
       "    <tr>\n",
       "      <th>min</th>\n",
       "      <td>2003.000000</td>\n",
       "      <td>18.000000</td>\n",
       "      <td>3.000000</td>\n",
       "      <td>20.085537</td>\n",
       "    </tr>\n",
       "    <tr>\n",
       "      <th>25%</th>\n",
       "      <td>2004.000000</td>\n",
       "      <td>33.750000</td>\n",
       "      <td>4.447158</td>\n",
       "      <td>85.383940</td>\n",
       "    </tr>\n",
       "    <tr>\n",
       "      <th>50%</th>\n",
       "      <td>2006.000000</td>\n",
       "      <td>42.000000</td>\n",
       "      <td>4.653213</td>\n",
       "      <td>104.921507</td>\n",
       "    </tr>\n",
       "    <tr>\n",
       "      <th>75%</th>\n",
       "      <td>2008.000000</td>\n",
       "      <td>51.000000</td>\n",
       "      <td>4.857332</td>\n",
       "      <td>128.680488</td>\n",
       "    </tr>\n",
       "    <tr>\n",
       "      <th>max</th>\n",
       "      <td>2009.000000</td>\n",
       "      <td>80.000000</td>\n",
       "      <td>5.763128</td>\n",
       "      <td>318.342430</td>\n",
       "    </tr>\n",
       "  </tbody>\n",
       "</table>\n",
       "</div>"
      ],
      "text/plain": [
       "              year          age      logwage         wage\n",
       "count  3000.000000  3000.000000  3000.000000  3000.000000\n",
       "mean   2005.791000    42.414667     4.653905   111.703608\n",
       "std       2.026167    11.542406     0.351753    41.728595\n",
       "min    2003.000000    18.000000     3.000000    20.085537\n",
       "25%    2004.000000    33.750000     4.447158    85.383940\n",
       "50%    2006.000000    42.000000     4.653213   104.921507\n",
       "75%    2008.000000    51.000000     4.857332   128.680488\n",
       "max    2009.000000    80.000000     5.763128   318.342430"
      ]
     },
     "execution_count": 4,
     "metadata": {},
     "output_type": "execute_result"
    }
   ],
   "source": [
    "df.describe()"
   ]
  },
  {
   "cell_type": "markdown",
   "id": "68b20448",
   "metadata": {},
   "source": [
    "Here's the plot we used multiple times in class to look at a single variable:  `age` vs `wage`"
   ]
  },
  {
   "cell_type": "code",
   "execution_count": 5,
   "id": "b90464f2",
   "metadata": {},
   "outputs": [
    {
     "data": {
      "text/plain": [
       "Text(0, 0.5, 'Wage')"
      ]
     },
     "execution_count": 5,
     "metadata": {},
     "output_type": "execute_result"
    },
    {
     "data": {
      "image/png": "[encoded data removed]",
      "text/plain": [
       "<Figure size 432x288 with 1 Axes>"
      ]
     },
     "metadata": {
      "needs_background": "light"
     },
     "output_type": "display_data"
    }
   ],
   "source": [
    "plt.scatter(df.age,df.wage)\n",
    "plt.xlabel('Age')\n",
    "plt.ylabel('Wage')"
   ]
  },
  {
   "cell_type": "markdown",
   "id": "3a924e5a",
   "metadata": {},
   "source": [
    "&#9989; **<font color=red>Do this:</font>** Modify the plot above so that the people earning above 250 are in a different color and/or symbol set.\n",
    "\n",
    "\n"
   ]
  },
  {
   "cell_type": "code",
   "execution_count": 6,
   "id": "58a29309",
   "metadata": {},
   "outputs": [
    {
     "data": {
      "text/plain": [
       "Text(0, 0.5, 'Wage')"
      ]
     },
     "execution_count": 6,
     "metadata": {},
     "output_type": "execute_result"
    },
    {
     "data": {
      "image/png": "[encoded data removed]",
      "text/plain": [
       "<Figure size 432x288 with 1 Axes>"
      ]
     },
     "metadata": {
      "needs_background": "light"
     },
     "output_type": "display_data"
    }
   ],
   "source": [
    "# Your code here \n",
    "plt.scatter(df.age[df.wage <=250], df.wage[df.wage<=250],marker = '*')\n",
    "plt.scatter(df.age[df.wage >250], df.wage[df.wage>250])\n",
    "\n",
    "plt.xlabel('Age')\n",
    "plt.ylabel('Wage')"
   ]
  },
  {
   "cell_type": "markdown",
   "id": "0e0398b5",
   "metadata": {},
   "source": [
    "# 1. Polynomial Regression \n",
    "\n",
    "Our first step is to build a polynomial regression model using the age data to predict wage.  So, as in class, we are in $p=1$ world here where we are going to fit the model\n",
    "$$\n",
    "\\texttt{wage} = \\beta_0 + \\beta_1 \\texttt{age} + \\beta_2 \\texttt{age}^2 + \\cdots + \\beta_p \\texttt{age}^p +\\varepsilon.\n",
    "$$\n",
    "\n",
    "The trick here is to build a matrix $X$ which has a column containing `age`, one with `age^2`, one with `age^3`, etc.  Then we hand this to your favorite regression tool (it doesn't need to know it's getting polynomial matrix inputs, it just sees a matrix of features and does it's thing). \n",
    "\n",
    "So, here's some code to take our $\\texttt{age}$ data column and create a bunch of new columns in our data frame that are simply each the $k$th power of the `age` column"
   ]
  },
  {
   "cell_type": "code",
   "execution_count": 7,
   "id": "681f4ddb",
   "metadata": {},
   "outputs": [
    {
     "data": {
      "text/plain": [
       "231655    18\n",
       "86582     24\n",
       "161300    45\n",
       "155159    43\n",
       "11443     50\n",
       "          ..\n",
       "376816    44\n",
       "302281    30\n",
       "10033     27\n",
       "14375     27\n",
       "453557    55\n",
       "Name: age, Length: 3000, dtype: int64"
      ]
     },
     "execution_count": 7,
     "metadata": {},
     "output_type": "execute_result"
    }
   ],
   "source": [
    "# Here's the column I care about\n",
    "df.age"
   ]
  },
  {
   "cell_type": "code",
   "execution_count": 8,
   "id": "853a6344",
   "metadata": {},
   "outputs": [
    {
     "data": {
      "text/plain": [
       "231655     324\n",
       "86582      576\n",
       "161300    2025\n",
       "155159    1849\n",
       "11443     2500\n",
       "          ... \n",
       "376816    1936\n",
       "302281     900\n",
       "10033      729\n",
       "14375      729\n",
       "453557    3025\n",
       "Name: age, Length: 3000, dtype: int64"
      ]
     },
     "execution_count": 8,
     "metadata": {},
     "output_type": "execute_result"
    }
   ],
   "source": [
    "# Here's one way to get out the pandas series that squares\n",
    "# each entry\n",
    "df.age.apply(lambda x: x**2)"
   ]
  },
  {
   "cell_type": "markdown",
   "id": "cf8f8d51",
   "metadata": {},
   "source": [
    "&#9989; **<font color=red>Do this:</font>** Use the code above (or any other tricks you might know) to generate a data frame called `polydf` with 4 columns, where the $k$th column has $\\texttt{age}^k$\n",
    "\n",
    "\n"
   ]
  },
  {
   "cell_type": "code",
   "execution_count": 10,
   "id": "933012f9",
   "metadata": {},
   "outputs": [],
   "source": [
    "# Your code here #\n",
    "#polydf = "
   ]
  },
  {
   "cell_type": "markdown",
   "id": "fefe1fd5",
   "metadata": {},
   "source": [
    "Did I need to make you do that? It turns out no. As with many things we've talked about in class, there is already some automated code for us to work with.  In this case, the only difference is that it will hand us back a matrix rather than a data frame. "
   ]
  },
  {
   "cell_type": "code",
   "execution_count": 11,
   "id": "438db0c8",
   "metadata": {},
   "outputs": [],
   "source": [
    "from sklearn.preprocessing import PolynomialFeatures"
   ]
  },
  {
   "cell_type": "code",
   "execution_count": 12,
   "id": "c26af8e1",
   "metadata": {},
   "outputs": [
    {
     "data": {
      "text/plain": [
       "array([[1.000000e+00, 1.800000e+01, 3.240000e+02, 5.832000e+03,\n",
       "        1.049760e+05],\n",
       "       [1.000000e+00, 2.400000e+01, 5.760000e+02, 1.382400e+04,\n",
       "        3.317760e+05],\n",
       "       [1.000000e+00, 4.500000e+01, 2.025000e+03, 9.112500e+04,\n",
       "        4.100625e+06],\n",
       "       [1.000000e+00, 4.300000e+01, 1.849000e+03, 7.950700e+04,\n",
       "        3.418801e+06],\n",
       "       [1.000000e+00, 5.000000e+01, 2.500000e+03, 1.250000e+05,\n",
       "        6.250000e+06],\n",
       "       [1.000000e+00, 5.400000e+01, 2.916000e+03, 1.574640e+05,\n",
       "        8.503056e+06],\n",
       "       [1.000000e+00, 4.400000e+01, 1.936000e+03, 8.518400e+04,\n",
       "        3.748096e+06],\n",
       "       [1.000000e+00, 3.000000e+01, 9.000000e+02, 2.700000e+04,\n",
       "        8.100000e+05],\n",
       "       [1.000000e+00, 4.100000e+01, 1.681000e+03, 6.892100e+04,\n",
       "        2.825761e+06],\n",
       "       [1.000000e+00, 5.200000e+01, 2.704000e+03, 1.406080e+05,\n",
       "        7.311616e+06]])"
      ]
     },
     "execution_count": 12,
     "metadata": {},
     "output_type": "execute_result"
    }
   ],
   "source": [
    "poly = PolynomialFeatures(4)\n",
    "X = poly.fit_transform(df.age.values.reshape(-1,1)) #<--- this nastyness is because it wants to be handed a matrix\n",
    "X[:10,:]"
   ]
  },
  {
   "cell_type": "markdown",
   "id": "29044ac2",
   "metadata": {},
   "source": [
    "&#9989; **<font color=red>Q:</font>** What other major difference do you notice between the dataframe you constructed above and the matrix provided here? Why do you think that is happening?\n",
    "\n",
    "*Your answer here*\n",
    "\n",
    "\n",
    "\n"
   ]
  },
  {
   "cell_type": "code",
   "execution_count": 13,
   "id": "40f605fe",
   "metadata": {},
   "outputs": [],
   "source": [
    "# Your code here #"
   ]
  },
  {
   "cell_type": "markdown",
   "id": "920e719e",
   "metadata": {},
   "source": [
    "&#9989; **<font color=red>Do this:</font>** Train a linear regression model on these features. What are the coefficients? \n"
   ]
  },
  {
   "cell_type": "code",
   "execution_count": 14,
   "id": "d3c06369",
   "metadata": {},
   "outputs": [
    {
     "data": {
      "text/plain": [
       "array([ 0.00000000e+00,  2.12455205e+01, -5.63859313e-01,  6.81068771e-03,\n",
       "       -3.20383038e-05])"
      ]
     },
     "execution_count": 14,
     "metadata": {},
     "output_type": "execute_result"
    }
   ],
   "source": [
    "# Your code here #\n",
    "y = df.wage\n",
    "model = LinearRegression()\n",
    "model.fit(X,y)\n",
    "\n",
    "model.coef_"
   ]
  },
  {
   "cell_type": "markdown",
   "id": "f2df7fb5",
   "metadata": {},
   "source": [
    "&#9989; **<font color=red>Q:</font>** What is the equation for the polynomial that you learned? \n",
    "\n",
    "*Your equation here*"
   ]
  },
  {
   "cell_type": "markdown",
   "id": "226ce85b",
   "metadata": {},
   "source": [
    "&#9989; **<font color=red>Do this:</font>** Draw the polynomial that you learned on top of the age vs wage plot. Note that you can either do this using the polynomial you just figured out, or by using the model you just set up to predict the values. In either case, use the vector of ages `t` below."
   ]
  },
  {
   "cell_type": "code",
   "execution_count": 15,
   "id": "1d4970e4",
   "metadata": {},
   "outputs": [
    {
     "data": {
      "text/plain": [
       "[<matplotlib.lines.Line2D at 0x27350e4a250>]"
      ]
     },
     "execution_count": 15,
     "metadata": {},
     "output_type": "execute_result"
    },
    {
     "data": {
      "image/png": "[encoded data removed]",
      "text/plain": [
       "<Figure size 432x288 with 1 Axes>"
      ]
     },
     "metadata": {
      "needs_background": "light"
     },
     "output_type": "display_data"
    }
   ],
   "source": [
    "# Your code here #\n",
    "t = np.linspace(10,100,100)\n",
    "polyfit = -184.15 + 2.12e+01*t - 5.64e-01*t**2 + 6.81e-03*t**3 - 3.2e-05*t**4\n",
    "\n",
    "\n",
    "plt.scatter(df.age[df.wage <=250], df.wage[df.wage<=250],marker = '*')\n",
    "plt.scatter(df.age[df.wage >250], df.wage[df.wage>250])\n",
    "\n",
    "plt.xlabel('Age')\n",
    "plt.ylabel('Wage')\n",
    "\n",
    "plt.plot(t,polyfit, color = \"lime\")"
   ]
  },
  {
   "cell_type": "markdown",
   "id": "16e645bd",
   "metadata": {},
   "source": [
    "\n",
    "![Stop Icon](https://upload.wikimedia.org/wikipedia/commons/thumb/1/1e/Vienna_Convention_road_sign_B2a.svg/180px-Vienna_Convention_road_sign_B2a.svg.png)\n",
    "\n",
    "Great, you got to here! Hang out for a bit, there's more lecture before we go on to the next portion. "
   ]
  },
  {
   "cell_type": "markdown",
   "id": "a49feca0",
   "metadata": {},
   "source": [
    "# 2. Step functions\n",
    "\n",
    "Now let's try to use step functions to learn a model. Like with the polynomial example above, all we're going to do is build a data frame or feature matrix that has the step function values in each column, and then pass that matrix to our favorite linear modeling function. \n",
    "\n",
    "First off, it's easy to find the locations for the knots, which are the places where we switch step functions. Here's the pandas `cut` command, which in this case on some toy data, gives me 3 equal-sized bins, where here, equal-sized means that the width of the intervals are all the same."
   ]
  },
  {
   "cell_type": "code",
   "execution_count": null,
   "id": "31ad45e3",
   "metadata": {},
   "outputs": [],
   "source": [
    "fakeData = np.array([1, 7, 3, 5, 4, 6, 3, 3 , 10,2])\n",
    "cuts, knots = pd.cut(fakeData, 3,retbins=True, right = False)\n",
    "print(cuts)\n",
    "print(knots)"
   ]
  },
  {
   "cell_type": "markdown",
   "id": "c6c845e8",
   "metadata": {},
   "source": [
    "The `retbins=True` tells the command to return the breakpoints in the bins, which I saved in my output as `knots`. The `right=False` command makes it so that we have intervals closed on the bottom (e.g. $[3,5)$, $[5,7)$, etc), which I am simply using here to make the results match with the textbook notation. "
   ]
  },
  {
   "cell_type": "markdown",
   "id": "6ccdbeae",
   "metadata": {},
   "source": [
    "We can either see the intervals chosen by looking at the `categories` saved to the cuts, or by looking at the knots list. "
   ]
  },
  {
   "cell_type": "code",
   "execution_count": null,
   "id": "bc90f773",
   "metadata": {},
   "outputs": [],
   "source": [
    "print(cuts.categories)\n",
    "print(knots)"
   ]
  },
  {
   "cell_type": "markdown",
   "id": "c87c48a8",
   "metadata": {},
   "source": [
    "I can find out what bin the $i$th entry is mapped to by just checking the cuts list. "
   ]
  },
  {
   "cell_type": "code",
   "execution_count": null,
   "id": "d21b0e34",
   "metadata": {},
   "outputs": [],
   "source": [
    "i = 5\n",
    "print('Entry is:', fakeData[i])\n",
    "print('This comes from bin:', cuts[i])"
   ]
  },
  {
   "cell_type": "markdown",
   "id": "a1178e7e",
   "metadata": {},
   "source": [
    "We can also see how many data points ended up in each interval."
   ]
  },
  {
   "cell_type": "code",
   "execution_count": null,
   "id": "50adc324",
   "metadata": {},
   "outputs": [],
   "source": [
    "cuts.value_counts()"
   ]
  },
  {
   "cell_type": "markdown",
   "id": "314ed989",
   "metadata": {},
   "source": [
    "Once we've got this list of bins, we can build the data frame that keeps track of all the true/false values for whether a data point is in a particular interval by using the dummy variable trick. "
   ]
  },
  {
   "cell_type": "code",
   "execution_count": null,
   "id": "19d26892",
   "metadata": {},
   "outputs": [],
   "source": [
    "X_stepFunction = pd.get_dummies(cuts)\n",
    "X_stepFunction"
   ]
  },
  {
   "cell_type": "code",
   "execution_count": null,
   "id": "5a5bf19b",
   "metadata": {},
   "outputs": [],
   "source": [
    "# This might be easier to check also if we draw the \n",
    "# input X data next to the dummy variables we made\n",
    "X_stepFunction['X'] = fakeData\n",
    "X_stepFunction"
   ]
  },
  {
   "cell_type": "markdown",
   "id": "0789f6d0",
   "metadata": {},
   "source": [
    "Then, if I want to figure out which bin is assigned for some other matrix of values that I want to test, I can use the `np.digitize` function as follows."
   ]
  },
  {
   "cell_type": "code",
   "execution_count": null,
   "id": "a92c7228",
   "metadata": {},
   "outputs": [],
   "source": [
    "u = np.array([4, 6, -7, 8, 13, 25, 0, 1, np.pi])\n",
    "print(u)\n",
    "np.digitize(u,knots)"
   ]
  },
  {
   "cell_type": "markdown",
   "id": "e6f9cfb9",
   "metadata": {},
   "source": [
    "&#9989; **<font color=red>Q:</font>** What interval does each entry in the array above correspond to? In particular, we had what do the entries with 0 and 4 mean? \n",
    "\n",
    "*Your answer here* "
   ]
  },
  {
   "cell_type": "markdown",
   "id": "95074c2d",
   "metadata": {},
   "source": [
    "&#9989; **<font color=red>Do this:</font>**\n",
    "- Use the `cut` tool above to create a feature matrix for the `age` data where each column corresponds to a step function using 4 bins. \n",
    "- Drop the first bin.... remember we don't need all of our dummy variables, so we'll just use the remaining 3 to predict.\n",
    "- Pass this matrix to a linear regression model. \n",
    "\n",
    "What is the equation for your learned model? "
   ]
  },
  {
   "cell_type": "code",
   "execution_count": null,
   "id": "687737a7",
   "metadata": {},
   "outputs": [],
   "source": [
    "# Your code here #"
   ]
  },
  {
   "cell_type": "markdown",
   "id": "2cf8049c",
   "metadata": {},
   "source": [
    "&#9989; **<font color=red>Do this:</font>** Our goal is to plot the learned equation on top of the scatter plot data. To do this:\n",
    "- Plot the  original sampled data.\n",
    "- Using your linear regression model from above, predict the values on \n",
    "```\n",
    "t = np.linspace(10,100,100)\n",
    "```\n",
    "    to get a vector `y`. \n",
    "- Plot `(t,y)` on the figure. \n",
    "\n",
    "What range of ages has the highest predicted wage?"
   ]
  },
  {
   "cell_type": "markdown",
   "id": "66f79113",
   "metadata": {},
   "source": [
    "\n",
    "\n",
    "-----\n",
    "### Congratulations, we're done!\n",
    "Written by Dr. Liz Munch, Michigan State University\n",
    "\n",
    "<a rel=\"license\" href=\"http://creativecommons.org/licenses/by-nc/4.0/\"><img alt=\"Creative Commons License\" style=\"border-width:0\" src=\"https://i.creativecommons.org/l/by-nc/4.0/88x31.png\" /></a><br />This work is licensed under a <a rel=\"license\" href=\"http://creativecommons.org/licenses/by-nc/4.0/\">Creative Commons Attribution-NonCommercial 4.0 International License</a>."
   ]
  },
  {
   "cell_type": "code",
   "execution_count": null,
   "id": "3fb8354f",
   "metadata": {},
   "outputs": [],
   "source": []
  }
 ],
 "metadata": {
  "kernelspec": {
   "display_name": "Python 3 (ipykernel)",
   "language": "python",
   "name": "python3"
  },
  "language_info": {
   "codemirror_mode": {
    "name": "ipython",
    "version": 3
   },
   "file_extension": ".py",
   "mimetype": "text/x-python",
   "name": "python",
   "nbconvert_exporter": "python",
   "pygments_lexer": "ipython3",
   "version": "3.9.12"
  }
 },
 "nbformat": 4,
 "nbformat_minor": 5
}
