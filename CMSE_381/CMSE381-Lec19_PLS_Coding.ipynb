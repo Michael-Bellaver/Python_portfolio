{
 "cells": [
  {
   "cell_type": "markdown",
   "id": "4dfd68f5",
   "metadata": {},
   "source": [
    "# Lecture 19 - Lab: PLS\n",
    "## CMSE 381 - Fall 2022\n",
    "## Oct 28, 2022\n",
    "\n"
   ]
  },
  {
   "cell_type": "code",
   "execution_count": 1,
   "id": "4ea3a4b4",
   "metadata": {},
   "outputs": [],
   "source": [
    "# Everyone's favorite standard imports\n",
    "import numpy as np\n",
    "import pandas as pd\n",
    "import matplotlib.pyplot as plt\n",
    "%matplotlib inline\n",
    "import time\n",
    "\n",
    "import seaborn as sns\n",
    "\n",
    "# ML imports we've used previously\n",
    "from sklearn.model_selection import train_test_split, cross_val_score\n",
    "from sklearn.metrics import mean_squared_error\n",
    "from sklearn.linear_model import LinearRegression\n",
    "from sklearn.decomposition import PCA\n"
   ]
  },
  {
   "cell_type": "markdown",
   "id": "450cfbaa",
   "metadata": {},
   "source": [
    "# PLS on Hitters Data"
   ]
  },
  {
   "cell_type": "markdown",
   "id": "81f9a257",
   "metadata": {},
   "source": [
    "# Loading in the data\n",
    "\n",
    "Ok, here we go, let's play with a baseball data set again. Note this cleanup is all the same as the last lab. "
   ]
  },
  {
   "cell_type": "code",
   "execution_count": 2,
   "id": "3ceeb83a",
   "metadata": {},
   "outputs": [
    {
     "name": "stdout",
     "output_type": "stream",
     "text": [
      "<class 'pandas.core.frame.DataFrame'>\n",
      "Int64Index: 263 entries, 1 to 321\n",
      "Data columns (total 20 columns):\n",
      " #   Column     Non-Null Count  Dtype  \n",
      "---  ------     --------------  -----  \n",
      " 0   AtBat      263 non-null    int64  \n",
      " 1   Hits       263 non-null    int64  \n",
      " 2   HmRun      263 non-null    int64  \n",
      " 3   Runs       263 non-null    int64  \n",
      " 4   RBI        263 non-null    int64  \n",
      " 5   Walks      263 non-null    int64  \n",
      " 6   Years      263 non-null    int64  \n",
      " 7   CAtBat     263 non-null    int64  \n",
      " 8   CHits      263 non-null    int64  \n",
      " 9   CHmRun     263 non-null    int64  \n",
      " 10  CRuns      263 non-null    int64  \n",
      " 11  CRBI       263 non-null    int64  \n",
      " 12  CWalks     263 non-null    int64  \n",
      " 13  League     263 non-null    object \n",
      " 14  Division   263 non-null    object \n",
      " 15  PutOuts    263 non-null    int64  \n",
      " 16  Assists    263 non-null    int64  \n",
      " 17  Errors     263 non-null    int64  \n",
      " 18  Salary     263 non-null    float64\n",
      " 19  NewLeague  263 non-null    object \n",
      "dtypes: float64(1), int64(16), object(3)\n",
      "memory usage: 43.1+ KB\n"
     ]
    }
   ],
   "source": [
    "df = pd.read_csv('Hitters.csv').dropna().drop('Player', axis = 1)\n",
    "df.info()\n",
    "dummies = pd.get_dummies(df[['League', 'Division', 'NewLeague']])"
   ]
  },
  {
   "cell_type": "code",
   "execution_count": 3,
   "id": "4672d6f6",
   "metadata": {
    "scrolled": false
   },
   "outputs": [
    {
     "name": "stdout",
     "output_type": "stream",
     "text": [
      "<class 'pandas.core.frame.DataFrame'>\n",
      "Int64Index: 263 entries, 1 to 321\n",
      "Data columns (total 19 columns):\n",
      " #   Column       Non-Null Count  Dtype  \n",
      "---  ------       --------------  -----  \n",
      " 0   AtBat        263 non-null    float64\n",
      " 1   Hits         263 non-null    float64\n",
      " 2   HmRun        263 non-null    float64\n",
      " 3   Runs         263 non-null    float64\n",
      " 4   RBI          263 non-null    float64\n",
      " 5   Walks        263 non-null    float64\n",
      " 6   Years        263 non-null    float64\n",
      " 7   CAtBat       263 non-null    float64\n",
      " 8   CHits        263 non-null    float64\n",
      " 9   CHmRun       263 non-null    float64\n",
      " 10  CRuns        263 non-null    float64\n",
      " 11  CRBI         263 non-null    float64\n",
      " 12  CWalks       263 non-null    float64\n",
      " 13  PutOuts      263 non-null    float64\n",
      " 14  Assists      263 non-null    float64\n",
      " 15  Errors       263 non-null    float64\n",
      " 16  League_N     263 non-null    uint8  \n",
      " 17  Division_W   263 non-null    uint8  \n",
      " 18  NewLeague_N  263 non-null    uint8  \n",
      "dtypes: float64(16), uint8(3)\n",
      "memory usage: 35.7 KB\n"
     ]
    }
   ],
   "source": [
    "y = df.Salary\n",
    "\n",
    "# Drop the column with the independent variable (Salary), and columns for which we created dummy variables\n",
    "X_ = df.drop(['Salary', 'League', 'Division', 'NewLeague'], axis = 1).astype('float64')\n",
    "\n",
    "# Define the feature set X.\n",
    "X = pd.concat([X_, dummies[['League_N', 'Division_W', 'NewLeague_N']]], axis = 1)\n",
    "\n",
    "X.info()"
   ]
  },
  {
   "cell_type": "code",
   "execution_count": 4,
   "id": "a123c81b",
   "metadata": {},
   "outputs": [
    {
     "data": {
      "text/html": [
       "<div>\n",
       "<style scoped>\n",
       "    .dataframe tbody tr th:only-of-type {\n",
       "        vertical-align: middle;\n",
       "    }\n",
       "\n",
       "    .dataframe tbody tr th {\n",
       "        vertical-align: top;\n",
       "    }\n",
       "\n",
       "    .dataframe thead th {\n",
       "        text-align: right;\n",
       "    }\n",
       "</style>\n",
       "<table border=\"1\" class=\"dataframe\">\n",
       "  <thead>\n",
       "    <tr style=\"text-align: right;\">\n",
       "      <th></th>\n",
       "      <th>AtBat</th>\n",
       "      <th>Hits</th>\n",
       "      <th>HmRun</th>\n",
       "      <th>Runs</th>\n",
       "      <th>RBI</th>\n",
       "      <th>Walks</th>\n",
       "      <th>Years</th>\n",
       "      <th>CAtBat</th>\n",
       "      <th>CHits</th>\n",
       "      <th>CHmRun</th>\n",
       "      <th>CRuns</th>\n",
       "      <th>CRBI</th>\n",
       "      <th>CWalks</th>\n",
       "      <th>PutOuts</th>\n",
       "      <th>Assists</th>\n",
       "      <th>Errors</th>\n",
       "      <th>League_N</th>\n",
       "      <th>Division_W</th>\n",
       "      <th>NewLeague_N</th>\n",
       "    </tr>\n",
       "  </thead>\n",
       "  <tbody>\n",
       "    <tr>\n",
       "      <th>1</th>\n",
       "      <td>2.138388</td>\n",
       "      <td>1.795001</td>\n",
       "      <td>0.799351</td>\n",
       "      <td>0.939709</td>\n",
       "      <td>1.468161</td>\n",
       "      <td>1.795741</td>\n",
       "      <td>2.920551</td>\n",
       "      <td>1.508364</td>\n",
       "      <td>1.288183</td>\n",
       "      <td>0.839441</td>\n",
       "      <td>0.969207</td>\n",
       "      <td>1.280276</td>\n",
       "      <td>1.420154</td>\n",
       "      <td>2.257670</td>\n",
       "      <td>0.296387</td>\n",
       "      <td>1.513644</td>\n",
       "      <td>1.999449</td>\n",
       "      <td>1.996555</td>\n",
       "      <td>2.001424</td>\n",
       "    </tr>\n",
       "    <tr>\n",
       "      <th>2</th>\n",
       "      <td>3.251708</td>\n",
       "      <td>2.880866</td>\n",
       "      <td>2.055473</td>\n",
       "      <td>2.584200</td>\n",
       "      <td>2.781779</td>\n",
       "      <td>3.499392</td>\n",
       "      <td>0.625832</td>\n",
       "      <td>0.710230</td>\n",
       "      <td>0.705030</td>\n",
       "      <td>0.766446</td>\n",
       "      <td>0.676331</td>\n",
       "      <td>0.822593</td>\n",
       "      <td>0.996001</td>\n",
       "      <td>3.143592</td>\n",
       "      <td>0.565203</td>\n",
       "      <td>2.119101</td>\n",
       "      <td>0.000000</td>\n",
       "      <td>1.996555</td>\n",
       "      <td>0.000000</td>\n",
       "    </tr>\n",
       "    <tr>\n",
       "      <th>3</th>\n",
       "      <td>3.367113</td>\n",
       "      <td>3.124631</td>\n",
       "      <td>2.283859</td>\n",
       "      <td>2.545046</td>\n",
       "      <td>3.013594</td>\n",
       "      <td>1.703652</td>\n",
       "      <td>2.294719</td>\n",
       "      <td>2.461315</td>\n",
       "      <td>2.429807</td>\n",
       "      <td>2.737307</td>\n",
       "      <td>2.500011</td>\n",
       "      <td>2.591477</td>\n",
       "      <td>1.340625</td>\n",
       "      <td>0.714453</td>\n",
       "      <td>0.075820</td>\n",
       "      <td>0.454093</td>\n",
       "      <td>1.999449</td>\n",
       "      <td>0.000000</td>\n",
       "      <td>2.001424</td>\n",
       "    </tr>\n",
       "    <tr>\n",
       "      <th>4</th>\n",
       "      <td>2.179119</td>\n",
       "      <td>1.927964</td>\n",
       "      <td>1.141930</td>\n",
       "      <td>1.527027</td>\n",
       "      <td>1.622705</td>\n",
       "      <td>1.381339</td>\n",
       "      <td>0.417222</td>\n",
       "      <td>0.173184</td>\n",
       "      <td>0.155816</td>\n",
       "      <td>0.145990</td>\n",
       "      <td>0.144928</td>\n",
       "      <td>0.142253</td>\n",
       "      <td>0.124974</td>\n",
       "      <td>2.875672</td>\n",
       "      <td>0.275709</td>\n",
       "      <td>0.605458</td>\n",
       "      <td>1.999449</td>\n",
       "      <td>0.000000</td>\n",
       "      <td>2.001424</td>\n",
       "    </tr>\n",
       "    <tr>\n",
       "      <th>5</th>\n",
       "      <td>4.032389</td>\n",
       "      <td>3.745125</td>\n",
       "      <td>0.456772</td>\n",
       "      <td>2.897437</td>\n",
       "      <td>1.970427</td>\n",
       "      <td>1.611562</td>\n",
       "      <td>2.294719</td>\n",
       "      <td>1.927767</td>\n",
       "      <td>1.747918</td>\n",
       "      <td>0.231150</td>\n",
       "      <td>1.512688</td>\n",
       "      <td>1.039065</td>\n",
       "      <td>0.734693</td>\n",
       "      <td>1.007378</td>\n",
       "      <td>2.901836</td>\n",
       "      <td>3.784109</td>\n",
       "      <td>0.000000</td>\n",
       "      <td>1.996555</td>\n",
       "      <td>0.000000</td>\n",
       "    </tr>\n",
       "  </tbody>\n",
       "</table>\n",
       "</div>"
      ],
      "text/plain": [
       "      AtBat      Hits     HmRun      Runs       RBI     Walks     Years  \\\n",
       "1  2.138388  1.795001  0.799351  0.939709  1.468161  1.795741  2.920551   \n",
       "2  3.251708  2.880866  2.055473  2.584200  2.781779  3.499392  0.625832   \n",
       "3  3.367113  3.124631  2.283859  2.545046  3.013594  1.703652  2.294719   \n",
       "4  2.179119  1.927964  1.141930  1.527027  1.622705  1.381339  0.417222   \n",
       "5  4.032389  3.745125  0.456772  2.897437  1.970427  1.611562  2.294719   \n",
       "\n",
       "     CAtBat     CHits    CHmRun     CRuns      CRBI    CWalks   PutOuts  \\\n",
       "1  1.508364  1.288183  0.839441  0.969207  1.280276  1.420154  2.257670   \n",
       "2  0.710230  0.705030  0.766446  0.676331  0.822593  0.996001  3.143592   \n",
       "3  2.461315  2.429807  2.737307  2.500011  2.591477  1.340625  0.714453   \n",
       "4  0.173184  0.155816  0.145990  0.144928  0.142253  0.124974  2.875672   \n",
       "5  1.927767  1.747918  0.231150  1.512688  1.039065  0.734693  1.007378   \n",
       "\n",
       "    Assists    Errors  League_N  Division_W  NewLeague_N  \n",
       "1  0.296387  1.513644  1.999449    1.996555     2.001424  \n",
       "2  0.565203  2.119101  0.000000    1.996555     0.000000  \n",
       "3  0.075820  0.454093  1.999449    0.000000     2.001424  \n",
       "4  0.275709  0.605458  1.999449    0.000000     2.001424  \n",
       "5  2.901836  3.784109  0.000000    1.996555     0.000000  "
      ]
     },
     "execution_count": 4,
     "metadata": {},
     "output_type": "execute_result"
    }
   ],
   "source": [
    "# And here we have the normalized data.\n",
    "X_normalized = X/X.std()\n",
    "X_normalized.head()"
   ]
  },
  {
   "cell_type": "markdown",
   "id": "533b855d",
   "metadata": {},
   "source": [
    "# Principal Least Squares (PLS)\n",
    "\n",
    "The command do do PLS in `Scikit-learn` is  `PLSRegression`. Below is a quick code that runs PLS on our dataset. "
   ]
  },
  {
   "cell_type": "code",
   "execution_count": 5,
   "id": "676632dd",
   "metadata": {},
   "outputs": [],
   "source": [
    "from sklearn.cross_decomposition import PLSRegression\n",
    "from sklearn.model_selection import KFold"
   ]
  },
  {
   "cell_type": "code",
   "execution_count": 6,
   "id": "685f4456",
   "metadata": {},
   "outputs": [
    {
     "data": {
      "text/plain": [
       "105986.31016965951"
      ]
     },
     "execution_count": 6,
     "metadata": {},
     "output_type": "execute_result"
    }
   ],
   "source": [
    "pls = PLSRegression(n_components=3)\n",
    "pls.fit(X_normalized,y)\n",
    "yhat = pls.predict(X_normalized)\n",
    "mean_squared_error(y,yhat)"
   ]
  },
  {
   "cell_type": "markdown",
   "id": "e8ea5c2e",
   "metadata": {},
   "source": [
    "But like last time, we can also use the `cross_val_score` function to get the CV score easily. "
   ]
  },
  {
   "cell_type": "code",
   "execution_count": 7,
   "id": "b0c70dfc",
   "metadata": {},
   "outputs": [
    {
     "data": {
      "text/plain": [
       "-120342.57274839826"
      ]
     },
     "execution_count": 7,
     "metadata": {},
     "output_type": "execute_result"
    }
   ],
   "source": [
    "pls = PLSRegression(n_components=3)\n",
    "scores = cross_val_score(pls, X_normalized, y, cv=10, scoring='neg_mean_squared_error')\n",
    "scores.mean()"
   ]
  },
  {
   "cell_type": "markdown",
   "id": "e23da5ab",
   "metadata": {},
   "source": [
    "&#9989; **<font color=red>Do this:</font>**  Like last time, your job is to test a PLS model for an increasing number of components used. I recommend using the `cross_val_score` with `scoring='neg_mean_squared_error'`. What number of components would you use? "
   ]
  },
  {
   "cell_type": "code",
   "execution_count": 11,
   "id": "a790749a",
   "metadata": {},
   "outputs": [
    {
     "data": {
      "image/png": "[encoded data removed]",
      "text/plain": [
       "<Figure size 432x288 with 1 Axes>"
      ]
     },
     "metadata": {
      "needs_background": "light"
     },
     "output_type": "display_data"
    }
   ],
   "source": [
    "n = len(X_normalized)\n",
    "mse = []\n",
    "\n",
    "# Calculate MSE using CV for an increasing number of components, \n",
    "# adding one component at a time.\n",
    "for i in np.arange(1, 20): # i is the number of components to use each time\n",
    "    # ====\n",
    "    pls = PLSRegression(n_components = i)\n",
    "    score = cross_val_score(pls, X_normalized, y, cv = 10, scoring='neg_mean_squared_error') # Your code to figure out the score each time goes in here. \n",
    "    # ====\n",
    "\n",
    "    mse.append(np.mean(-score))\n",
    "    \n",
    "# Plot results    \n",
    "plt.plot(mse, '-v')\n",
    "plt.xlabel('Number of  components in regression')\n",
    "plt.ylabel('MSE')\n",
    "plt.title('Predicting Salary')\n",
    "plt.xlim(xmin=-1);"
   ]
  },
  {
   "cell_type": "markdown",
   "id": "0619ddb1",
   "metadata": {},
   "source": [
    "&#9989; **<font color=red>Do this:</font>**  Below is my code from doing the PCR version on this data set from last class. Draw the two plots overlaid: The test MSE from doing PLS and that form doing PCR.  What do you notice? Which model would you pick with which number of components and why?"
   ]
  },
  {
   "cell_type": "code",
   "execution_count": 12,
   "id": "1a9dd4b4",
   "metadata": {},
   "outputs": [],
   "source": [
    "pca = PCA()\n",
    "X_PCs = pca.fit_transform(X_normalized)\n",
    "\n",
    "# 10-fold CV, with shuffle included. \n",
    "# You can just put in `cv=10` below, but this doesn't shuffle the data\n",
    "n = len(X_normalized)\n",
    "kf_10 = KFold( n_splits=10, shuffle=True, random_state=48864)\n",
    "\n",
    "regr = LinearRegression()\n",
    "msePCA = []\n",
    "\n",
    "# Calculate MSE using CV for the 19 principal components, adding one component at the time.\n",
    "for i in np.arange(1, 20):\n",
    "    score = -1*cross_val_score(regr, X_PCs[:,:i], y.ravel(), cv=kf_10, scoring='neg_mean_squared_error').mean()\n",
    "    msePCA.append(score)\n"
   ]
  },
  {
   "cell_type": "code",
   "execution_count": 17,
   "id": "00ac1b04",
   "metadata": {},
   "outputs": [
    {
     "data": {
      "image/png": "[encoded data removed]",
      "text/plain": [
       "<Figure size 432x288 with 1 Axes>"
      ]
     },
     "metadata": {
      "needs_background": "light"
     },
     "output_type": "display_data"
    }
   ],
   "source": [
    "# Your plot code here\n",
    "plt.plot(mse, '-v', label = 'PLS')\n",
    "plt.plot(msePCA, '-v', label = 'PCR')\n",
    "plt.xlabel('Number of  components in regression')\n",
    "plt.ylabel('MSE')\n",
    "plt.title('Predicting Salary')\n",
    "plt.legend()\n",
    "plt.xlim(xmin=-1);"
   ]
  },
  {
   "cell_type": "code",
   "execution_count": 18,
   "id": "90eb70f0",
   "metadata": {},
   "outputs": [
    {
     "data": {
      "text/plain": [
       "13"
      ]
     },
     "execution_count": 18,
     "metadata": {},
     "output_type": "execute_result"
    }
   ],
   "source": [
    "mse.index(min(mse))"
   ]
  },
  {
   "cell_type": "markdown",
   "id": "66f79113",
   "metadata": {},
   "source": [
    "\n",
    "\n",
    "-----\n",
    "### Congratulations, we're done!\n",
    "Written by Dr. Liz Munch, Michigan State University\n",
    "\n",
    "<a rel=\"license\" href=\"http://creativecommons.org/licenses/by-nc/4.0/\"><img alt=\"Creative Commons License\" style=\"border-width:0\" src=\"https://i.creativecommons.org/l/by-nc/4.0/88x31.png\" /></a><br />This work is licensed under a <a rel=\"license\" href=\"http://creativecommons.org/licenses/by-nc/4.0/\">Creative Commons Attribution-NonCommercial 4.0 International License</a>."
   ]
  },
  {
   "cell_type": "code",
   "execution_count": null,
   "id": "6bcfed3e",
   "metadata": {},
   "outputs": [],
   "source": []
  }
 ],
 "metadata": {
  "kernelspec": {
   "display_name": "Python 3 (ipykernel)",
   "language": "python",
   "name": "python3"
  },
  "language_info": {
   "codemirror_mode": {
    "name": "ipython",
    "version": 3
   },
   "file_extension": ".py",
   "mimetype": "text/x-python",
   "name": "python",
   "nbconvert_exporter": "python",
   "pygments_lexer": "ipython3",
   "version": "3.9.12"
  }
 },
 "nbformat": 4,
 "nbformat_minor": 5
}
