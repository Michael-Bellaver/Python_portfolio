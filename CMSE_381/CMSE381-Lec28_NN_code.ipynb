{
 "cells": [
  {
   "cell_type": "markdown",
   "id": "4dfd68f5",
   "metadata": {},
   "source": [
    "# Lab: Neural Nets\n",
    "## CMSE 381 - Fall 2022\n",
    "## Nov 28, 2022\n",
    "\n",
    "\n",
    "<img src=\"https://upload.wikimedia.org/wikipedia/commons/thumb/9/99/Neural_network_example.svg/1200px-Neural_network_example.svg.png\" alt=\"Simple Neural Net\" width=\"200\"/>"
   ]
  },
  {
   "cell_type": "code",
   "execution_count": 1,
   "id": "4ea3a4b4",
   "metadata": {},
   "outputs": [],
   "source": [
    "# Everyone's favorite standard imports\n",
    "import numpy as np\n",
    "import pandas as pd\n",
    "import matplotlib as mpl\n",
    "import matplotlib.pyplot as plt\n",
    "%matplotlib inline\n",
    "import time"
   ]
  },
  {
   "cell_type": "markdown",
   "id": "e449c5e5",
   "metadata": {},
   "source": [
    "# Building your own basic neural network\n",
    "\n",
    "We're going to try to play with building some simple portions of the neural nets described in class.  \n",
    "\n",
    "First up, let's try to build the following example we played with in class:\n",
    "<img src=\"https://imgur.com/kO6zuGG.jpg\" alt=\"Example Neural Net from Class\" width=\"400\"/>\n",
    "\n",
    "&#9989; **<font color=red>Do this:</font>** Add code where noted below to create an automatic computation of the things we did in class. **Note: You can replace this code with the matrix version if you prefer, but this structure is built to work with the individual equations version.**"
   ]
  },
  {
   "cell_type": "code",
   "execution_count": 29,
   "id": "13ce3205",
   "metadata": {},
   "outputs": [
    {
     "name": "stdout",
     "output_type": "stream",
     "text": [
      "[[ 1  2  1]\n",
      " [-1  0  1]\n",
      " [ 3 -1 -1]]\n",
      "(1,0) should give  1  =>  1\n",
      "(0,1) should give -1  =>  -1\n"
     ]
    }
   ],
   "source": [
    "def MyFirstNN(X1,X2,w, beta):\n",
    "    \n",
    "    A = []    \n",
    "    for i in range(3): \n",
    "        Ai = w[i,0] + X1*w[i,1] + X2*w[i,2] # <----- your code here\n",
    "        if Ai < 0:\n",
    "            Ai = 0\n",
    "        else:\n",
    "            pass\n",
    "        A.append(Ai)\n",
    "#     print(A)\n",
    "    \n",
    "    A = np.array(A)\n",
    "    \n",
    "    Y = beta[0] + beta[1]*A[0] + beta[2]*A[1] + beta[3]*A[2] # <----- your code here\n",
    "\n",
    "    return Y\n",
    "\n",
    " \n",
    "    \n",
    "    \n",
    "w = np.array([(1,2,1),(-1,0,1),(3,-1,-1)])\n",
    "print(w)\n",
    "beta = np.array((-1,2,1,-2))\n",
    "print('(1,0) should give  1  => ', MyFirstNN(1,0,w,beta))\n",
    "print('(0,1) should give -1  => ', MyFirstNN(0,1,w,beta))"
   ]
  },
  {
   "cell_type": "markdown",
   "id": "bf0d5be2",
   "metadata": {},
   "source": [
    "&#9989; **<font color=red>Do this:</font>**  Play with the following code by changing around your $w$ and $\\beta$ matrix values. \n",
    "- What sorts of changes occur in the resulting function value outputs?\n",
    "- We're using the ReLU as our activation function above, which replaces the entry withthe positive value of the entry.  Why am I able to get negative results out of the neural net?\n"
   ]
  },
  {
   "cell_type": "code",
   "execution_count": 16,
   "id": "29fe3377",
   "metadata": {},
   "outputs": [
    {
     "data": {
      "text/plain": [
       "Text(0, 0.5, 'X2')"
      ]
     },
     "execution_count": 16,
     "metadata": {},
     "output_type": "execute_result"
    },
    {
     "data": {
      "image/png": "[encoded data removed]",
      "text/plain": [
       "<Figure size 432x288 with 2 Axes>"
      ]
     },
     "metadata": {
      "needs_background": "light"
     },
     "output_type": "display_data"
    }
   ],
   "source": [
    "# Your code here #\n",
    "\n",
    "w = np.array([(1,2,1),(-1,0,1),(3,-1,-1)]) #<----- Mess with these\n",
    "beta = np.array((-1,2,1,-2))               #<----- These, too\n",
    "\n",
    "#--- below here plots the output values for many combinations of \n",
    "#--- X1,X2\n",
    "\n",
    "a = np.linspace(-10,10,30)\n",
    "b = np.linspace(-10,10,30)\n",
    "x,y = np.meshgrid(a,b)\n",
    "M = np.zeros((len(a),len(b)))\n",
    "for i in range(len(a)):\n",
    "    for j in range(len(a)):\n",
    "        M[i,j] = MyFirstNN(a[i],b[j],w, beta)\n",
    "        \n",
    "plt.pcolormesh(x,y,M,shading = 'auto')\n",
    "plt.colorbar()\n",
    "plt.xlabel('X1')\n",
    "plt.ylabel('X2')"
   ]
  },
  {
   "cell_type": "markdown",
   "id": "d098ee17",
   "metadata": {},
   "source": [
    "&#9989; **<font color=red>Do this:</font>** Write a modified version of your `MyFirstNN` function that uses a sigmoid function instead of ReLu. Draw a 2D heatmap plot like above. What sort of patterns can you get in the resulting output function? \n"
   ]
  },
  {
   "cell_type": "code",
   "execution_count": 20,
   "id": "caa0b691",
   "metadata": {},
   "outputs": [
    {
     "data": {
      "text/plain": [
       "Text(0, 0.5, 'X2')"
      ]
     },
     "execution_count": 20,
     "metadata": {},
     "output_type": "execute_result"
    },
    {
     "data": {
      "image/png": "[encoded data removed]",
      "text/plain": [
       "<Figure size 432x288 with 2 Axes>"
      ]
     },
     "metadata": {
      "needs_background": "light"
     },
     "output_type": "display_data"
    }
   ],
   "source": [
    "# Your code here #\n",
    "def MyFirstNN(X1,X2,w, beta):\n",
    "    \n",
    "    A = []    \n",
    "    for i in range(3): \n",
    "        Ai = w[i,0] + X1*w[i,1] + X2*w[i,2] # <----- your code here\n",
    "        g = 1/(1 + np.exp(-Ai))\n",
    "        A.append(g)\n",
    "#     print(A)\n",
    "    \n",
    "    A = np.array(A)\n",
    "    \n",
    "    Y = beta[0] + beta[1]*A[0] + beta[2]*A[1] + beta[3]*A[2] # <----- your code here\n",
    "\n",
    "    return Y\n",
    "\n",
    "\n",
    "w = np.array([(1,2,1),(-1,0,1),(3,-1,-1)]) #<----- Mess with these\n",
    "beta = np.array((-1,2,1,-2))               #<----- These, too\n",
    "\n",
    "a = np.linspace(-10,10,30)\n",
    "b = np.linspace(-10,10,30)\n",
    "x,y = np.meshgrid(a,b)\n",
    "M = np.zeros((len(a),len(b)))\n",
    "for i in range(len(a)):\n",
    "    for j in range(len(a)):\n",
    "        M[i,j] = MyFirstNN(a[i],b[j],w, beta)\n",
    "        \n",
    "plt.pcolormesh(x,y,M,shading = 'auto')\n",
    "plt.colorbar()\n",
    "plt.xlabel('X1')\n",
    "plt.ylabel('X2')"
   ]
  },
  {
   "cell_type": "markdown",
   "id": "ff49f84d",
   "metadata": {},
   "source": [
    "The functions you have created are what the neural net would predict given a new input data point. \n",
    "\n",
    "&#9989; **<font color=red>Q:</font>** For the neural net using  $w$ and $\\beta$ from class, and using the sigmoid activation function, what output prediction would you get for an input $(-10,10)$? "
   ]
  },
  {
   "cell_type": "markdown",
   "id": "b8e358b6",
   "metadata": {},
   "source": [
    "So of course, if we were actually building this beast, our bigger job would be to find good choices of $w$ and $\\beta$ based on our available training data. Let's pretend for the moment I have the following prediction data. "
   ]
  },
  {
   "cell_type": "code",
   "execution_count": 48,
   "id": "74ab8f37",
   "metadata": {},
   "outputs": [],
   "source": [
    "data = np.loadtxt('DL-toy-data.csv')\n",
    "X = data[:,:2]\n",
    "y = data[:,2]"
   ]
  },
  {
   "cell_type": "markdown",
   "id": "d7f3d7d4",
   "metadata": {},
   "source": [
    "&#9989; **<font color=red>Do this:</font>** Given this particular data set, what is the mean squared error for the neural net using  $w$ and $\\beta$ from class, and using the sigmoid activation function?"
   ]
  },
  {
   "cell_type": "code",
   "execution_count": 59,
   "id": "f5fd00ef",
   "metadata": {},
   "outputs": [],
   "source": [
    "# Your code here\n",
    "from sklearn.metrics import mean_squared_error\n",
    "\n",
    "w = np.array([(1,2,1),(-1,0,1),(3,-1,-1)])\n",
    "beta = np.array((-1,2,1,-2))\n",
    "\n",
    "def MyFirstNN(X,w, beta):\n",
    "    Y_hat = []\n",
    "    for j in range(len(X)):\n",
    "        A = []  \n",
    "        for i in range(3): \n",
    "            Ai = w[i,0] + X[j][0]*w[i,1] + X[j][1]*w[i,2]\n",
    "            g = 1/(1 + np.exp(-Ai))\n",
    "            A.append(g)\n",
    "        A = np.array(A)\n",
    "        Y = beta[0] + beta[1]*A[0] + beta[2]*A[1] + beta[3]*A[2]\n",
    "        Y_hat.append(Y)\n",
    "    Y_hat = np.array(Y_hat)    \n",
    "    return Y_hat"
   ]
  },
  {
   "cell_type": "code",
   "execution_count": 60,
   "id": "fcaff19e",
   "metadata": {},
   "outputs": [],
   "source": [
    "yhat = MyFirstNN(X,w,beta)"
   ]
  },
  {
   "cell_type": "code",
   "execution_count": 61,
   "id": "a6a8dce9",
   "metadata": {},
   "outputs": [
    {
     "data": {
      "text/plain": [
       "0.382954387472921"
      ]
     },
     "execution_count": 61,
     "metadata": {},
     "output_type": "execute_result"
    }
   ],
   "source": [
    "mean_squared_error(y, yhat)"
   ]
  },
  {
   "cell_type": "markdown",
   "id": "62e28cb5",
   "metadata": {},
   "source": [
    "\n",
    "\n",
    "We're not going to train the model* ourselves, so let's switch now to the following online tool for training model. \n",
    "\n",
    "Open this website in another window: [https://playground.tensorflow.org](https://playground.tensorflow.org/#activation=tanh&batchSize=10&dataset=xor&regDataset=reg-plane&learningRate=0.03&regularizationRate=0&noise=0&networkShape=4&seed=0.85627&showTestData=false&discretize=false&percTrainData=50&x=true&y=true&xTimesY=false&xSquared=false&ySquared=false&cosX=false&sinX=false&cosY=false&sinY=false&collectStats=false&problem=classification&initZero=false&hideText=false)\n",
    "\n",
    "*Translation: chosing better weights $w$ and $\\beta$ to improve this score.\n",
    "\n",
    "\n",
    "&#9989; **<font color=red>Do this:</font>** \n",
    "1. Start by working with a neural network with a single hidden layer on the data set labeled \"Exclusive or\". The initial setup has random weights chosen so the test loss on the right isn't very good. Hit the play button to watch the model find better and better weights to improve the prediction. \n",
    "2. Hover over the neurons on your trained model. What does the colormap shown on the right mean?\n",
    "2. What does the thickness/color of the edges between features/neurons mean? How does it align with our notation from class?\n",
    "2. What happens when you train the model using more or less neurons (hidden units) in the layer? What happens if you increase \n",
    "3. What happens when you train the same model on the spiral data set? \n",
    "4. If your settings are like mine, the sprial data set results are not good. Play with parameters until you can get test loss below 10\\% on the spiral data set."
   ]
  },
  {
   "cell_type": "markdown",
   "id": "66f79113",
   "metadata": {},
   "source": [
    "\n",
    "\n",
    "-----\n",
    "### Congratulations, we're done!\n",
    "Written by Dr. Liz Munch, Michigan State University\n",
    "\n",
    "<a rel=\"license\" href=\"http://creativecommons.org/licenses/by-nc/4.0/\"><img alt=\"Creative Commons License\" style=\"border-width:0\" src=\"https://i.creativecommons.org/l/by-nc/4.0/88x31.png\" /></a><br />This work is licensed under a <a rel=\"license\" href=\"http://creativecommons.org/licenses/by-nc/4.0/\">Creative Commons Attribution-NonCommercial 4.0 International License</a>."
   ]
  },
  {
   "cell_type": "code",
   "execution_count": null,
   "id": "3fb8354f",
   "metadata": {},
   "outputs": [],
   "source": []
  }
 ],
 "metadata": {
  "kernelspec": {
   "display_name": "Python 3 (ipykernel)",
   "language": "python",
   "name": "python3"
  },
  "language_info": {
   "codemirror_mode": {
    "name": "ipython",
    "version": 3
   },
   "file_extension": ".py",
   "mimetype": "text/x-python",
   "name": "python",
   "nbconvert_exporter": "python",
   "pygments_lexer": "ipython3",
   "version": "3.9.12"
  }
 },
 "nbformat": 4,
 "nbformat_minor": 5
}
