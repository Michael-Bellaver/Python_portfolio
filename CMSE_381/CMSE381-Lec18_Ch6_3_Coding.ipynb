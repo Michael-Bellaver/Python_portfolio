{
 "cells": [
  {
   "cell_type": "markdown",
   "id": "4dfd68f5",
   "metadata": {},
   "source": [
    "# Lecture 18 - Lab: PCA and PCR\n",
    "## CMSE 381 - Fall 2022\n",
    "## Oct 26, 2022\n",
    "\n"
   ]
  },
  {
   "cell_type": "markdown",
   "id": "c90aa0b0",
   "metadata": {},
   "source": [
    "In this module we are going to test out the ridge/lasso methods we discussed in class from Chapter 6.2, and the PCR ideas from Chapter 6.3."
   ]
  },
  {
   "cell_type": "code",
   "execution_count": 1,
   "id": "4ea3a4b4",
   "metadata": {},
   "outputs": [],
   "source": [
    "# Everyone's favorite standard imports\n",
    "import numpy as np\n",
    "import pandas as pd\n",
    "import matplotlib.pyplot as plt\n",
    "%matplotlib inline\n",
    "import time\n",
    "\n",
    "import seaborn as sns\n",
    "\n",
    "# ML imports we've used previously\n",
    "from sklearn.model_selection import train_test_split\n",
    "from sklearn.metrics import mean_squared_error\n",
    "\n"
   ]
  },
  {
   "cell_type": "markdown",
   "id": "30c7d5aa",
   "metadata": {},
   "source": [
    "# 1. PCA on Penguins\n",
    "![Palmer Penguins Picture](https://allisonhorst.github.io/palmerpenguins/reference/figures/lter_penguins.png)\n",
    "\n",
    "*Artwork by @allison_horst*\n",
    "\n",
    "\n",
    "For this lab, we are going to again use the <a href = \"https://allisonhorst.github.io/palmerpenguins/\">Palmer Penguins</a> data set by Allison Horst, Alison Hill, and Kristen Gorman. You should have done this in the last lab, but if you don't have the package installed to get the data, you can run \n",
    "```\n",
    "pip install palmerpenguins\n",
    "```\n",
    "to have access to the data. "
   ]
  },
  {
   "cell_type": "code",
   "execution_count": 2,
   "id": "8bd59457",
   "metadata": {},
   "outputs": [
    {
     "data": {
      "text/html": [
       "<div>\n",
       "<style scoped>\n",
       "    .dataframe tbody tr th:only-of-type {\n",
       "        vertical-align: middle;\n",
       "    }\n",
       "\n",
       "    .dataframe tbody tr th {\n",
       "        vertical-align: top;\n",
       "    }\n",
       "\n",
       "    .dataframe thead th {\n",
       "        text-align: right;\n",
       "    }\n",
       "</style>\n",
       "<table border=\"1\" class=\"dataframe\">\n",
       "  <thead>\n",
       "    <tr style=\"text-align: right;\">\n",
       "      <th></th>\n",
       "      <th>species</th>\n",
       "      <th>island</th>\n",
       "      <th>bill_length_mm</th>\n",
       "      <th>bill_depth_mm</th>\n",
       "      <th>flipper_length_mm</th>\n",
       "      <th>body_mass_g</th>\n",
       "      <th>sex</th>\n",
       "      <th>year</th>\n",
       "    </tr>\n",
       "  </thead>\n",
       "  <tbody>\n",
       "    <tr>\n",
       "      <th>0</th>\n",
       "      <td>Adelie</td>\n",
       "      <td>Torgersen</td>\n",
       "      <td>39.1</td>\n",
       "      <td>18.7</td>\n",
       "      <td>181.0</td>\n",
       "      <td>3750.0</td>\n",
       "      <td>male</td>\n",
       "      <td>2007</td>\n",
       "    </tr>\n",
       "    <tr>\n",
       "      <th>1</th>\n",
       "      <td>Adelie</td>\n",
       "      <td>Torgersen</td>\n",
       "      <td>39.5</td>\n",
       "      <td>17.4</td>\n",
       "      <td>186.0</td>\n",
       "      <td>3800.0</td>\n",
       "      <td>female</td>\n",
       "      <td>2007</td>\n",
       "    </tr>\n",
       "    <tr>\n",
       "      <th>2</th>\n",
       "      <td>Adelie</td>\n",
       "      <td>Torgersen</td>\n",
       "      <td>40.3</td>\n",
       "      <td>18.0</td>\n",
       "      <td>195.0</td>\n",
       "      <td>3250.0</td>\n",
       "      <td>female</td>\n",
       "      <td>2007</td>\n",
       "    </tr>\n",
       "    <tr>\n",
       "      <th>4</th>\n",
       "      <td>Adelie</td>\n",
       "      <td>Torgersen</td>\n",
       "      <td>36.7</td>\n",
       "      <td>19.3</td>\n",
       "      <td>193.0</td>\n",
       "      <td>3450.0</td>\n",
       "      <td>female</td>\n",
       "      <td>2007</td>\n",
       "    </tr>\n",
       "    <tr>\n",
       "      <th>5</th>\n",
       "      <td>Adelie</td>\n",
       "      <td>Torgersen</td>\n",
       "      <td>39.3</td>\n",
       "      <td>20.6</td>\n",
       "      <td>190.0</td>\n",
       "      <td>3650.0</td>\n",
       "      <td>male</td>\n",
       "      <td>2007</td>\n",
       "    </tr>\n",
       "  </tbody>\n",
       "</table>\n",
       "</div>"
      ],
      "text/plain": [
       "  species     island  bill_length_mm  bill_depth_mm  flipper_length_mm  \\\n",
       "0  Adelie  Torgersen            39.1           18.7              181.0   \n",
       "1  Adelie  Torgersen            39.5           17.4              186.0   \n",
       "2  Adelie  Torgersen            40.3           18.0              195.0   \n",
       "4  Adelie  Torgersen            36.7           19.3              193.0   \n",
       "5  Adelie  Torgersen            39.3           20.6              190.0   \n",
       "\n",
       "   body_mass_g     sex  year  \n",
       "0       3750.0    male  2007  \n",
       "1       3800.0  female  2007  \n",
       "2       3250.0  female  2007  \n",
       "4       3450.0  female  2007  \n",
       "5       3650.0    male  2007  "
      ]
     },
     "execution_count": 2,
     "metadata": {},
     "output_type": "execute_result"
    }
   ],
   "source": [
    "from palmerpenguins import load_penguins\n",
    "penguins = load_penguins()\n",
    "penguins = penguins.dropna()\n",
    "penguins.head()\n"
   ]
  },
  {
   "cell_type": "markdown",
   "id": "d32626ac",
   "metadata": {},
   "source": [
    "Before we get to the full version, let's just take a look at two of the columns: flipper length and bill length. A nice thing we can do is to also color the data by which species label the data point has. "
   ]
  },
  {
   "cell_type": "code",
   "execution_count": 3,
   "id": "a12e5a6f",
   "metadata": {},
   "outputs": [
    {
     "data": {
      "text/plain": [
       "<AxesSubplot:xlabel='bill_length_mm', ylabel='flipper_length_mm'>"
      ]
     },
     "execution_count": 3,
     "metadata": {},
     "output_type": "execute_result"
    },
    {
     "data": {
      "image/png": "[encoded data removed]",
      "text/plain": [
       "<Figure size 432x288 with 1 Axes>"
      ]
     },
     "metadata": {
      "needs_background": "light"
     },
     "output_type": "display_data"
    }
   ],
   "source": [
    "sns.scatterplot(x = penguins.bill_length_mm, \n",
    "                y = penguins.flipper_length_mm, \n",
    "                hue = penguins.species)\n",
    "\n"
   ]
  },
  {
   "cell_type": "markdown",
   "id": "b53271b9",
   "metadata": {},
   "source": [
    "Before we get to it, we're going to just work with the columns that are numeric.  "
   ]
  },
  {
   "cell_type": "code",
   "execution_count": 4,
   "id": "513fbbf0",
   "metadata": {},
   "outputs": [
    {
     "data": {
      "text/html": [
       "<div>\n",
       "<style scoped>\n",
       "    .dataframe tbody tr th:only-of-type {\n",
       "        vertical-align: middle;\n",
       "    }\n",
       "\n",
       "    .dataframe tbody tr th {\n",
       "        vertical-align: top;\n",
       "    }\n",
       "\n",
       "    .dataframe thead th {\n",
       "        text-align: right;\n",
       "    }\n",
       "</style>\n",
       "<table border=\"1\" class=\"dataframe\">\n",
       "  <thead>\n",
       "    <tr style=\"text-align: right;\">\n",
       "      <th></th>\n",
       "      <th>bill_length_mm</th>\n",
       "      <th>bill_depth_mm</th>\n",
       "      <th>flipper_length_mm</th>\n",
       "      <th>body_mass_g</th>\n",
       "      <th>year</th>\n",
       "    </tr>\n",
       "  </thead>\n",
       "  <tbody>\n",
       "    <tr>\n",
       "      <th>0</th>\n",
       "      <td>39.1</td>\n",
       "      <td>18.7</td>\n",
       "      <td>181.0</td>\n",
       "      <td>3750.0</td>\n",
       "      <td>2007</td>\n",
       "    </tr>\n",
       "    <tr>\n",
       "      <th>1</th>\n",
       "      <td>39.5</td>\n",
       "      <td>17.4</td>\n",
       "      <td>186.0</td>\n",
       "      <td>3800.0</td>\n",
       "      <td>2007</td>\n",
       "    </tr>\n",
       "    <tr>\n",
       "      <th>2</th>\n",
       "      <td>40.3</td>\n",
       "      <td>18.0</td>\n",
       "      <td>195.0</td>\n",
       "      <td>3250.0</td>\n",
       "      <td>2007</td>\n",
       "    </tr>\n",
       "    <tr>\n",
       "      <th>4</th>\n",
       "      <td>36.7</td>\n",
       "      <td>19.3</td>\n",
       "      <td>193.0</td>\n",
       "      <td>3450.0</td>\n",
       "      <td>2007</td>\n",
       "    </tr>\n",
       "    <tr>\n",
       "      <th>5</th>\n",
       "      <td>39.3</td>\n",
       "      <td>20.6</td>\n",
       "      <td>190.0</td>\n",
       "      <td>3650.0</td>\n",
       "      <td>2007</td>\n",
       "    </tr>\n",
       "  </tbody>\n",
       "</table>\n",
       "</div>"
      ],
      "text/plain": [
       "   bill_length_mm  bill_depth_mm  flipper_length_mm  body_mass_g  year\n",
       "0            39.1           18.7              181.0       3750.0  2007\n",
       "1            39.5           17.4              186.0       3800.0  2007\n",
       "2            40.3           18.0              195.0       3250.0  2007\n",
       "4            36.7           19.3              193.0       3450.0  2007\n",
       "5            39.3           20.6              190.0       3650.0  2007"
      ]
     },
     "execution_count": 4,
     "metadata": {},
     "output_type": "execute_result"
    }
   ],
   "source": [
    "penguins_num = penguins.select_dtypes(np.number)\n",
    "penguins_num.head()"
   ]
  },
  {
   "cell_type": "markdown",
   "id": "cc78df3c",
   "metadata": {},
   "source": [
    "We will also use mean centered data to make the visualization easier (meaning shifting our data to have mean 0 in every column, and have standard deviation 1). "
   ]
  },
  {
   "cell_type": "code",
   "execution_count": 5,
   "id": "e545b625",
   "metadata": {},
   "outputs": [
    {
     "data": {
      "text/html": [
       "<div>\n",
       "<style scoped>\n",
       "    .dataframe tbody tr th:only-of-type {\n",
       "        vertical-align: middle;\n",
       "    }\n",
       "\n",
       "    .dataframe tbody tr th {\n",
       "        vertical-align: top;\n",
       "    }\n",
       "\n",
       "    .dataframe thead th {\n",
       "        text-align: right;\n",
       "    }\n",
       "</style>\n",
       "<table border=\"1\" class=\"dataframe\">\n",
       "  <thead>\n",
       "    <tr style=\"text-align: right;\">\n",
       "      <th></th>\n",
       "      <th>bill_length_mm</th>\n",
       "      <th>bill_depth_mm</th>\n",
       "      <th>flipper_length_mm</th>\n",
       "      <th>body_mass_g</th>\n",
       "      <th>year</th>\n",
       "    </tr>\n",
       "  </thead>\n",
       "  <tbody>\n",
       "    <tr>\n",
       "      <th>0</th>\n",
       "      <td>-0.894695</td>\n",
       "      <td>0.779559</td>\n",
       "      <td>-1.424608</td>\n",
       "      <td>-0.567621</td>\n",
       "      <td>-1.281813</td>\n",
       "    </tr>\n",
       "    <tr>\n",
       "      <th>1</th>\n",
       "      <td>-0.821552</td>\n",
       "      <td>0.119404</td>\n",
       "      <td>-1.067867</td>\n",
       "      <td>-0.505525</td>\n",
       "      <td>-1.281813</td>\n",
       "    </tr>\n",
       "    <tr>\n",
       "      <th>2</th>\n",
       "      <td>-0.675264</td>\n",
       "      <td>0.424091</td>\n",
       "      <td>-0.425733</td>\n",
       "      <td>-1.188572</td>\n",
       "      <td>-1.281813</td>\n",
       "    </tr>\n",
       "    <tr>\n",
       "      <th>4</th>\n",
       "      <td>-1.333559</td>\n",
       "      <td>1.084246</td>\n",
       "      <td>-0.568429</td>\n",
       "      <td>-0.940192</td>\n",
       "      <td>-1.281813</td>\n",
       "    </tr>\n",
       "    <tr>\n",
       "      <th>5</th>\n",
       "      <td>-0.858123</td>\n",
       "      <td>1.744400</td>\n",
       "      <td>-0.782474</td>\n",
       "      <td>-0.691811</td>\n",
       "      <td>-1.281813</td>\n",
       "    </tr>\n",
       "  </tbody>\n",
       "</table>\n",
       "</div>"
      ],
      "text/plain": [
       "   bill_length_mm  bill_depth_mm  flipper_length_mm  body_mass_g      year\n",
       "0       -0.894695       0.779559          -1.424608    -0.567621 -1.281813\n",
       "1       -0.821552       0.119404          -1.067867    -0.505525 -1.281813\n",
       "2       -0.675264       0.424091          -0.425733    -1.188572 -1.281813\n",
       "4       -1.333559       1.084246          -0.568429    -0.940192 -1.281813\n",
       "5       -0.858123       1.744400          -0.782474    -0.691811 -1.281813"
      ]
     },
     "execution_count": 5,
     "metadata": {},
     "output_type": "execute_result"
    }
   ],
   "source": [
    "p_normalized = (penguins_num - penguins_num.mean())/penguins_num.std()\n",
    "p_normalized.head()"
   ]
  },
  {
   "cell_type": "markdown",
   "id": "32336ff1",
   "metadata": {},
   "source": [
    "## PCA with just two input columns\n",
    "\n",
    "To try to draw pictures similar to what we just saw on the slides, we'll first focus on two of the columns. "
   ]
  },
  {
   "cell_type": "code",
   "execution_count": 6,
   "id": "34ab810b",
   "metadata": {},
   "outputs": [
    {
     "data": {
      "text/html": [
       "<div>\n",
       "<style scoped>\n",
       "    .dataframe tbody tr th:only-of-type {\n",
       "        vertical-align: middle;\n",
       "    }\n",
       "\n",
       "    .dataframe tbody tr th {\n",
       "        vertical-align: top;\n",
       "    }\n",
       "\n",
       "    .dataframe thead th {\n",
       "        text-align: right;\n",
       "    }\n",
       "</style>\n",
       "<table border=\"1\" class=\"dataframe\">\n",
       "  <thead>\n",
       "    <tr style=\"text-align: right;\">\n",
       "      <th></th>\n",
       "      <th>bill_length_mm</th>\n",
       "      <th>flipper_length_mm</th>\n",
       "    </tr>\n",
       "  </thead>\n",
       "  <tbody>\n",
       "    <tr>\n",
       "      <th>0</th>\n",
       "      <td>-0.894695</td>\n",
       "      <td>-1.424608</td>\n",
       "    </tr>\n",
       "    <tr>\n",
       "      <th>1</th>\n",
       "      <td>-0.821552</td>\n",
       "      <td>-1.067867</td>\n",
       "    </tr>\n",
       "    <tr>\n",
       "      <th>2</th>\n",
       "      <td>-0.675264</td>\n",
       "      <td>-0.425733</td>\n",
       "    </tr>\n",
       "    <tr>\n",
       "      <th>4</th>\n",
       "      <td>-1.333559</td>\n",
       "      <td>-0.568429</td>\n",
       "    </tr>\n",
       "    <tr>\n",
       "      <th>5</th>\n",
       "      <td>-0.858123</td>\n",
       "      <td>-0.782474</td>\n",
       "    </tr>\n",
       "    <tr>\n",
       "      <th>...</th>\n",
       "      <td>...</td>\n",
       "      <td>...</td>\n",
       "    </tr>\n",
       "    <tr>\n",
       "      <th>339</th>\n",
       "      <td>2.159064</td>\n",
       "      <td>0.430446</td>\n",
       "    </tr>\n",
       "    <tr>\n",
       "      <th>340</th>\n",
       "      <td>-0.090112</td>\n",
       "      <td>0.073705</td>\n",
       "    </tr>\n",
       "    <tr>\n",
       "      <th>341</th>\n",
       "      <td>1.025333</td>\n",
       "      <td>-0.568429</td>\n",
       "    </tr>\n",
       "    <tr>\n",
       "      <th>342</th>\n",
       "      <td>1.244765</td>\n",
       "      <td>0.644491</td>\n",
       "    </tr>\n",
       "    <tr>\n",
       "      <th>343</th>\n",
       "      <td>1.135049</td>\n",
       "      <td>-0.211688</td>\n",
       "    </tr>\n",
       "  </tbody>\n",
       "</table>\n",
       "<p>333 rows × 2 columns</p>\n",
       "</div>"
      ],
      "text/plain": [
       "     bill_length_mm  flipper_length_mm\n",
       "0         -0.894695          -1.424608\n",
       "1         -0.821552          -1.067867\n",
       "2         -0.675264          -0.425733\n",
       "4         -1.333559          -0.568429\n",
       "5         -0.858123          -0.782474\n",
       "..              ...                ...\n",
       "339        2.159064           0.430446\n",
       "340       -0.090112           0.073705\n",
       "341        1.025333          -0.568429\n",
       "342        1.244765           0.644491\n",
       "343        1.135049          -0.211688\n",
       "\n",
       "[333 rows x 2 columns]"
      ]
     },
     "execution_count": 6,
     "metadata": {},
     "output_type": "execute_result"
    }
   ],
   "source": [
    "penguins_subset2 = p_normalized[['bill_length_mm', 'flipper_length_mm']]\n",
    "penguins_subset2"
   ]
  },
  {
   "cell_type": "markdown",
   "id": "34ae24ad",
   "metadata": {},
   "source": [
    "We run PCA using the `PCA` command from `scikitlearn`."
   ]
  },
  {
   "cell_type": "code",
   "execution_count": 7,
   "id": "c282c115",
   "metadata": {},
   "outputs": [],
   "source": [
    "from sklearn.decomposition import PCA"
   ]
  },
  {
   "cell_type": "code",
   "execution_count": 8,
   "id": "2d4c8023",
   "metadata": {},
   "outputs": [
    {
     "data": {
      "text/plain": [
       "array([[-1.63999499e+00,  3.74704522e-01],\n",
       "       [-1.33602033e+00,  1.74171030e-01],\n",
       "       [-7.78521833e-01, -1.76445140e-01],\n",
       "       [-1.34490871e+00, -5.41028753e-01],\n",
       "       [-1.16007736e+00, -5.34925214e-02],\n",
       "       [-1.66585528e+00,  3.48844231e-01],\n",
       "       [-9.20753435e-01, -3.18676742e-01],\n",
       "       [-1.33094126e+00,  5.82856620e-01],\n",
       "       [-1.20013757e+00, -1.94454356e-01],\n",
       "       [-1.36418769e+00, -1.06481589e+00],\n",
       "       [-1.76144537e+00, -1.50352379e-01],\n",
       "       [-9.85404163e-01, -3.83327470e-01],\n",
       "       [-3.93156999e-01,  7.11643424e-03],\n",
       "       [-2.09635939e+00, -3.84364768e-01],\n",
       "       [-9.19543462e-02,  6.11023976e-01],\n",
       "       [-2.16124259e+00,  5.59768333e-01],\n",
       "       [-1.87146784e+00,  2.44133298e-01],\n",
       "       [-1.65015313e+00, -4.42666658e-01],\n",
       "       [-1.55456304e+00,  5.65299514e-02],\n",
       "       [-1.72923624e+00,  3.86364900e-01],\n",
       "       [-1.82863563e+00, -4.19345902e-01],\n",
       "       [-1.34514118e+00,  4.67755077e-01],\n",
       "       [-1.15626806e+00,  2.53021671e-01],\n",
       "       [-2.24921407e+00,  6.73600109e-01],\n",
       "       [-1.50942377e+00,  6.06177376e-01],\n",
       "       [-1.73962685e+00,  5.77777549e-01],\n",
       "       [-2.03702020e+00,  2.80384200e-01],\n",
       "       [-1.23511870e+00,  7.32693998e-02],\n",
       "       [-1.25589992e+00,  4.56094699e-01],\n",
       "       [-1.28279751e+00, -6.80720820e-01],\n",
       "       [-8.70302620e-01, -3.69127557e-01],\n",
       "       [-1.22472809e+00, -1.18143250e-01],\n",
       "       [-1.28961129e+00,  8.25989852e-01],\n",
       "       [-1.83394717e+00,  1.80752337e-01],\n",
       "       [-1.39813153e+00,  3.13863097e-01],\n",
       "       [-1.92572796e+00, -1.19300795e-02],\n",
       "       [-7.13871104e-01, -1.11794412e-01],\n",
       "       [-1.78857543e+00, -2.78384068e-01],\n",
       "       [-2.36725483e-01,  2.64449579e-01],\n",
       "       [-1.70972479e+00, -9.86317963e-02],\n",
       "       [-1.12128693e+00, -1.47020845e-02],\n",
       "       [-1.33094126e+00,  5.82856620e-01],\n",
       "       [-1.58677217e+00, -4.80187327e-01],\n",
       "       [-7.21722180e-01,  2.83961033e-01],\n",
       "       [-1.32309019e+00,  1.87101175e-01],\n",
       "       [-1.15753783e+00,  1.50850274e-01],\n",
       "       [-1.71607363e+00, -6.09488784e-01],\n",
       "       [-3.06455282e-01, -2.08886739e-01],\n",
       "       [-1.93207680e+00, -5.22787067e-01],\n",
       "       [-8.38093490e-01,  1.67589722e-01],\n",
       "       [-1.40067106e+00,  1.09520302e-01],\n",
       "       [-8.40633026e-01, -3.67530730e-02],\n",
       "       [-1.97617878e+00,  3.85207354e-02],\n",
       "       [-1.17808658e+00, -4.75108257e-01],\n",
       "       [-1.87781668e+00, -2.66723690e-01],\n",
       "       [-6.49220376e-01, -4.71436835e-02],\n",
       "       [-1.63214391e+00, -2.10509224e-02],\n",
       "       [-8.26433112e-01,  7.83484701e-02],\n",
       "       [-1.83775648e+00, -1.25761855e-01],\n",
       "       [-7.61782384e-01,  1.42999198e-01],\n",
       "       [-1.39916882e+00, -7.97092131e-01],\n",
       "       [-1.02823637e+00,  2.80151730e-01],\n",
       "       [-1.59970232e+00, -4.93117473e-01],\n",
       "       [-4.33217203e-01, -1.33845400e-01],\n",
       "       [-1.91002581e+00, -8.03440968e-01],\n",
       "       [-1.10835678e+00, -1.77193886e-03],\n",
       "       [-8.18582037e-01, -3.17406974e-01],\n",
       "       [ 3.35378074e-02,  4.33811240e-01],\n",
       "       [-1.65142290e+00, -5.44838056e-01],\n",
       "       [-4.55268192e-01,  1.46808501e-01],\n",
       "       [-9.02744219e-01,  1.02938994e-01],\n",
       "       [-1.73431531e+00, -2.23206900e-02],\n",
       "       [-1.71226432e+00, -3.02974591e-01],\n",
       "       [-5.45779211e-01,  5.62974816e-02],\n",
       "       [-1.81824502e+00, -6.10758551e-01],\n",
       "       [-3.91887231e-01,  1.09287832e-01],\n",
       "       [-1.64761360e+00, -2.38323863e-01],\n",
       "       [-1.55179104e+00, -7.47911083e-01],\n",
       "       [-1.36822946e+00, -3.62546249e-01],\n",
       "       [-6.99671191e-01,  3.30713149e-03],\n",
       "       [-1.54798173e+00, -4.41396891e-01],\n",
       "       [-1.52085167e+00, -3.13365202e-01],\n",
       "       [-1.33982964e+00, -1.32343163e-01],\n",
       "       [-1.21179795e+00, -1.05213104e-01],\n",
       "       [-1.02015283e+00, -1.12438754e+00],\n",
       "       [-1.70572518e-01, -5.77512124e-01],\n",
       "       [-2.09762916e+00, -4.86536165e-01],\n",
       "       [-1.32309019e+00,  1.87101175e-01],\n",
       "       [-1.71226432e+00, -3.02974591e-01],\n",
       "       [-5.80105098e-02, -7.67655006e-01],\n",
       "       [-1.31523911e+00, -2.08654269e-01],\n",
       "       [-7.28071018e-01, -2.26895955e-01],\n",
       "       [-2.56715617e+00, -2.49751771e-01],\n",
       "       [-5.54900054e-01,  3.49881529e-01],\n",
       "       [-1.61517200e+00, -7.10390414e-01],\n",
       "       [-2.84404293e-01, -4.89540640e-01],\n",
       "       [-1.72011540e+00,  9.27808531e-02],\n",
       "       [-1.35402955e+00, -2.47444706e-01],\n",
       "       [-1.18974696e+00, -3.85867005e-01],\n",
       "       [-1.41106167e+00,  3.00932951e-01],\n",
       "       [-7.96531049e-01, -5.98060876e-01],\n",
       "       [-1.30230897e+00, -1.95724123e-01],\n",
       "       [-1.76929645e+00,  2.45403066e-01],\n",
       "       [-3.02645979e-01,  9.76274537e-02],\n",
       "       [-9.11632592e-01, -6.12260789e-01],\n",
       "       [-2.95027374e-01,  7.10655839e-01],\n",
       "       [-9.57004336e-01, -1.53124384e-01],\n",
       "       [-4.31947436e-01, -3.16740027e-02],\n",
       "       [-1.07083611e+00, -6.51528995e-02],\n",
       "       [-4.17747522e-01,  8.34275405e-02],\n",
       "       [-1.35149001e+00, -4.31019109e-02],\n",
       "       [-9.64622942e-01, -7.66152769e-01],\n",
       "       [-1.67601342e+00, -4.68526949e-01],\n",
       "       [-9.77785557e-01,  2.29700915e-01],\n",
       "       [-1.71226432e+00, -3.02974591e-01],\n",
       "       [-9.63353174e-01, -6.63981371e-01],\n",
       "       [-1.75001746e+00,  7.69190199e-01],\n",
       "       [-2.83134526e-01, -3.87369243e-01],\n",
       "       [-1.89201659e+00, -3.81825233e-01],\n",
       "       [-5.37928136e-01, -3.39457963e-01],\n",
       "       [-1.17427728e+00, -1.68594065e-01],\n",
       "       [-6.23360085e-01, -2.12833922e-02],\n",
       "       [-1.14841699e+00, -1.42733773e-01],\n",
       "       [ 4.69585926e-01, -4.41861830e-01],\n",
       "       [-1.26351853e+00, -1.56933687e-01],\n",
       "       [-3.15576125e-01,  8.46973081e-02],\n",
       "       [-1.33197856e+00, -5.28098607e-01],\n",
       "       [-9.38762651e-01, -7.40292478e-01],\n",
       "       [-1.46659156e+00, -5.73018242e-02],\n",
       "       [-9.27334742e-01,  1.79250100e-01],\n",
       "       [-1.58804194e+00, -5.82358725e-01],\n",
       "       [-5.39197903e-01, -4.41629360e-01],\n",
       "       [-1.70972479e+00, -9.86317963e-02],\n",
       "       [-9.57004336e-01, -1.53124384e-01],\n",
       "       [-8.92353608e-01, -8.84736556e-02],\n",
       "       [-1.14333792e+00,  2.65951817e-01],\n",
       "       [-2.19194948e+00, -8.83561377e-01],\n",
       "       [-9.79055325e-01,  1.27529518e-01],\n",
       "       [-1.31777865e+00, -4.12997064e-01],\n",
       "       [-1.45112188e+00,  1.59971117e-01],\n",
       "       [-1.17300751e+00, -6.64226671e-02],\n",
       "       [-1.81189619e+00, -9.99015638e-02],\n",
       "       [-1.33451810e+00, -7.32441402e-01],\n",
       "       [-1.20267710e+00, -3.98797151e-01],\n",
       "       [-1.73812461e+00, -3.28834883e-01],\n",
       "       [-3.20655195e-01, -3.23988282e-01],\n",
       "       [ 7.78639654e-01, -2.33709732e-01],\n",
       "       [ 2.24148082e+00, -6.87999537e-01],\n",
       "       [ 1.06437263e+00,  1.52924869e-01],\n",
       "       [ 1.63607104e+00, -8.25897572e-02],\n",
       "       [ 1.17439510e+00, -2.41560808e-01],\n",
       "       [ 7.79909421e-01, -1.31538335e-01],\n",
       "       [ 6.88128634e-01, -3.24220752e-01],\n",
       "       [ 1.25982705e+00, -5.59735378e-01],\n",
       "       [ 3.15693946e-01, -4.94852180e-01],\n",
       "       [ 1.07095393e+00, -3.45001973e-01],\n",
       "       [ 2.57624526e-01, -1.05742975e+00],\n",
       "       [ 1.40586795e+00, -1.10989584e-01],\n",
       "       [ 8.52411225e-01, -4.62643051e-01],\n",
       "       [ 1.17693463e+00, -3.72180126e-02],\n",
       "       [ 6.89398402e-01, -2.22049354e-01],\n",
       "       [ 1.49510920e+00, -1.22649962e-01],\n",
       "       [ 1.98052868e-01, -7.13394889e-01],\n",
       "       [ 1.68398232e+00, -3.37383367e-01],\n",
       "       [ 6.90668170e-01, -1.19877957e-01],\n",
       "       [ 1.66978241e+00, -4.52484910e-01],\n",
       "       [ 1.66193133e+00, -5.67294659e-02],\n",
       "       [ 8.51141457e-01, -5.64814449e-01],\n",
       "       [ 9.31261866e-01, -2.82890780e-01],\n",
       "       [ 1.00630321e+00, -4.09652701e-01],\n",
       "       [ 5.66678253e-01, -8.49277653e-01],\n",
       "       [ 9.80442914e-01, -4.35512992e-01],\n",
       "       [ 1.20025539e+00, -2.15700516e-01],\n",
       "       [ 9.99721897e-01,  8.82741411e-02],\n",
       "       [ 1.73697267e+00, -1.83491387e-01],\n",
       "       [ 1.48876037e+00, -6.33506949e-01],\n",
       "       [ 2.51043218e-01, -5.59502908e-01],\n",
       "       [ 4.47534938e-01, -1.61207929e-01],\n",
       "       [ 3.48277480e+00,  5.53294444e-01],\n",
       "       [ 1.62060136e+00, -2.99862698e-01],\n",
       "       [ 1.53009034e+00, -3.90373717e-01],\n",
       "       [ 4.26986186e-01, -7.87166460e-01],\n",
       "       [ 9.62433698e-01, -8.57128728e-01],\n",
       "       [ 3.55754151e-01, -3.53890346e-01],\n",
       "       [ 9.63470996e-01,  2.53826499e-01],\n",
       "       [ 1.87662257e-01, -5.21982239e-01],\n",
       "       [ 1.93750616e+00, -4.87466045e-01],\n",
       "       [ 6.24747674e-01, -2.86700082e-01],\n",
       "       [ 1.48344883e+00, -3.34087098e-02],\n",
       "       [ 1.90252503e+00, -2.19742289e-01],\n",
       "       [ 7.58090903e-01, -8.59668263e-01],\n",
       "       [ 6.50607965e-01, -2.60839791e-01],\n",
       "       [ 2.05387747e+00, -3.71094734e-01],\n",
       "       [ 7.24379536e-01, -4.89773110e-01],\n",
       "       [ 8.64071603e-01, -5.51884303e-01],\n",
       "       [ 7.92839567e-01, -1.18608189e-01],\n",
       "       [ 1.54302048e+00, -3.77443572e-01],\n",
       "       [ 5.98887383e-01, -3.12560374e-01],\n",
       "       [ 2.00215689e+00, -4.22815316e-01],\n",
       "       [ 1.13306513e+00, -4.84694040e-01],\n",
       "       [ 1.09046539e+00, -8.29998669e-01],\n",
       "       [ 3.29893859e-01, -3.79750637e-01],\n",
       "       [ 1.15511611e+00, -7.65347941e-01],\n",
       "       [ 2.52312985e-01, -4.57331511e-01],\n",
       "       [ 1.99049651e+00, -3.33574064e-01],\n",
       "       [ 5.23846044e-01, -1.85798453e-01],\n",
       "       [ 1.29607795e+00, -7.25287736e-01],\n",
       "       [ 8.78271516e-01, -4.36782760e-01],\n",
       "       [ 2.84792790e+00, -1.82454089e-01],\n",
       "       [ 1.14345574e+00, -6.76106689e-01],\n",
       "       [ 2.21562053e+00, -7.13859828e-01],\n",
       "       [ 2.12637928e+00, -7.02199450e-01],\n",
       "       [ 8.96513202e-01, -1.02395085e+00],\n",
       "       [ 1.97883613e+00, -2.44332813e-01],\n",
       "       [ 1.23777606e+00, -2.79081477e-01],\n",
       "       [ 1.32193824e+00, -6.99427445e-01],\n",
       "       [ 1.55468086e+00, -4.66684824e-01],\n",
       "       [ 1.13306513e+00, -4.84694040e-01],\n",
       "       [ 1.06968417e+00, -4.47173370e-01],\n",
       "       [ 2.06045878e+00, -8.69021576e-01],\n",
       "       [ 8.58760063e-01,  4.82139366e-02],\n",
       "       [ 1.87920427e+00, -4.12597851e-02],\n",
       "       [ 8.64071603e-01, -5.51884303e-01],\n",
       "       [ 1.26767812e+00, -9.55490823e-01],\n",
       "       [ 1.21699484e+00,  1.03743822e-01],\n",
       "       [ 2.11067712e+00,  8.93114389e-02],\n",
       "       [ 9.97182362e-01, -1.16068654e-01],\n",
       "       [ 1.93877593e+00, -3.85294647e-01],\n",
       "       [ 6.73928721e-01, -4.39322295e-01],\n",
       "       [ 2.24402035e+00, -4.83656742e-01],\n",
       "       [ 7.82681426e-01, -9.35979369e-01],\n",
       "       [ 1.80416293e+00,  8.55021361e-02],\n",
       "       [ 1.01011251e+00, -1.03138508e-01],\n",
       "       [ 2.51301388e+00, -4.16466478e-01],\n",
       "       [ 1.31281740e+00, -4.05843398e-01],\n",
       "       [ 2.42504239e+00, -3.02634703e-01],\n",
       "       [ 7.51509595e-01, -3.61741421e-01],\n",
       "       [ 1.87412520e+00, -4.49945375e-01],\n",
       "       [ 7.23109769e-01, -5.91944507e-01],\n",
       "       [ 2.14311872e+00, -3.82755112e-01],\n",
       "       [ 1.45758853e+00, -5.92690011e-02],\n",
       "       [ 1.43703978e+00, -6.85227532e-01],\n",
       "       [ 6.72426484e-01,  4.67290137e-01],\n",
       "       [ 2.13145835e+00, -2.93513860e-01],\n",
       "       [ 1.49256967e+00, -3.26992757e-01],\n",
       "       [ 2.90345778e+00,  1.75780686e-01],\n",
       "       [ 1.12267452e+00, -2.93281390e-01],\n",
       "       [ 2.02420788e+00, -7.03469218e-01],\n",
       "       [ 1.07095393e+00, -3.45001973e-01],\n",
       "       [ 1.59262431e-01, -7.52185325e-01],\n",
       "       [ 2.12614681e+00,  3.06584380e-01],\n",
       "       [ 2.65243131e-01, -4.44401365e-01],\n",
       "       [ 9.36340937e-01,  1.25794810e-01],\n",
       "       [ 1.59982014e+00,  8.29626009e-02],\n",
       "       [ 2.16516971e+00, -6.63409013e-01],\n",
       "       [ 5.43357497e-01, -6.70795149e-01],\n",
       "       [ 2.43543300e+00, -4.94047352e-01],\n",
       "       [ 1.09427469e+00, -5.23484476e-01],\n",
       "       [ 2.90091825e+00, -2.85621092e-02],\n",
       "       [ 1.68271255e+00, -4.39554765e-01],\n",
       "       [ 1.07222370e+00, -2.42830575e-01],\n",
       "       [ 1.07095393e+00, -3.45001973e-01],\n",
       "       [ 1.88959488e+00, -2.32672435e-01],\n",
       "       [ 7.12719158e-01, -4.00531858e-01],\n",
       "       [ 1.37088682e+00,  1.56734172e-01],\n",
       "       [-1.28205248e-01,  7.76576335e-01],\n",
       "       [ 5.26153109e-01,  1.02732817e+00],\n",
       "       [ 5.42892558e-01,  1.34677251e+00],\n",
       "       [-4.72240110e-01,  8.36147992e-01],\n",
       "       [ 9.25717856e-01,  1.32599129e+00],\n",
       "       [ 6.40774858e-03,  3.05779552e-01],\n",
       "       [-8.86237240e-01,  1.43116716e+00],\n",
       "       [ 7.44695818e-01,  1.14496925e+00],\n",
       "       [-4.15035312e-02,  5.60573162e-01],\n",
       "       [ 7.95146633e-01,  1.09451844e+00],\n",
       "       [-6.48242873e-02,  7.39055665e-01],\n",
       "       [ 6.45063955e-01,  1.34804228e+00],\n",
       "       [-4.16710225e-01,  1.19438277e+00],\n",
       "       [ 1.03701010e+00,  1.03367701e+00],\n",
       "       [-3.06687752e-01,  7.99897091e-01],\n",
       "       [ 8.43057912e-01,  8.39724825e-01],\n",
       "       [ 6.15394361e-01,  1.01566779e+00],\n",
       "       [ 8.03802536e-01,  2.81850205e+00],\n",
       "       [-2.42037023e-01,  8.64547819e-01],\n",
       "       [ 3.72261129e-01,  9.74337822e-01],\n",
       "       [-1.21330018e+00,  8.01399328e-01],\n",
       "       [ 7.99468499e-02,  1.08563006e+00],\n",
       "       [-8.07154129e-01,  6.02135603e-01],\n",
       "       [ 4.52381538e-01,  1.25626149e+00],\n",
       "       [ 4.90074883e-02,  6.51084181e-01],\n",
       "       [ 8.35206837e-01,  1.23548027e+00],\n",
       "       [ 7.92607097e-01,  8.90175640e-01],\n",
       "       [ 6.63305641e-01,  7.60874184e-01],\n",
       "       [-1.91586209e-01,  8.14097004e-01],\n",
       "       [ 1.34225452e+00,  9.35314915e-01],\n",
       "       [-1.10454748e+00,  3.04742254e-01],\n",
       "       [ 1.32147330e+00,  1.31814021e+00],\n",
       "       [-8.97665148e-01,  5.11624584e-01],\n",
       "       [ 1.00861027e+00,  8.03473924e-01],\n",
       "       [ 4.36911857e-01,  1.03898855e+00],\n",
       "       [ 3.54251913e-01,  5.52722086e-01],\n",
       "       [ 1.65378799e-01,  7.67455492e-01],\n",
       "       [ 1.49106743e+00,  5.79619675e-01],\n",
       "       [-7.64846654e-02,  8.28296917e-01],\n",
       "       [ 1.43276554e+00,  1.02582593e+00],\n",
       "       [ 1.10316306e+00,  1.91715306e-01],\n",
       "       [-4.19249760e-01,  9.90039973e-01],\n",
       "       [ 6.42524420e-01,  1.14369948e+00],\n",
       "       [-5.57034444e-02,  4.45471618e-01],\n",
       "       [ 6.42524420e-01,  1.14369948e+00],\n",
       "       [ 8.81848349e-01,  8.78515262e-01],\n",
       "       [ 2.36378365e-01,  1.34296321e+00],\n",
       "       [ 1.20406469e+00,  9.08136762e-02],\n",
       "       [ 2.66047959e-01,  1.67533769e+00],\n",
       "       [ 6.01194448e-01,  9.00566251e-01],\n",
       "       [ 4.31832787e-01,  6.30302960e-01],\n",
       "       [ 9.59429223e-01,  9.56096136e-01],\n",
       "       [-1.81195598e-01,  6.22684355e-01],\n",
       "       [ 9.69819834e-01,  7.64683487e-01],\n",
       "       [-8.97665148e-01,  5.11624584e-01],\n",
       "       [ 8.61067128e-01,  1.26134056e+00],\n",
       "       [-3.46747956e-01,  6.58935256e-01],\n",
       "       [ 7.88797795e-01,  5.83661448e-01],\n",
       "       [ 8.54718290e-01,  7.50483574e-01],\n",
       "       [-1.43674929e-01,  5.59303394e-01],\n",
       "       [ 1.27633403e+00,  7.68492790e-01],\n",
       "       [-2.40767256e-01,  9.66719216e-01],\n",
       "       [-8.02939681e-02,  5.21782725e-01],\n",
       "       [ 1.83106052e+00,  1.22231765e+00],\n",
       "       [-1.16014674e-02, -1.15836184e-01],\n",
       "       [ 3.23080082e-01,  1.12696003e+00],\n",
       "       [ 1.33590568e+00,  4.24457928e-01],\n",
       "       [ 6.52915031e-01,  9.52286833e-01]])"
      ]
     },
     "execution_count": 8,
     "metadata": {},
     "output_type": "execute_result"
    }
   ],
   "source": [
    "# Set up the PCA object\n",
    "pca = PCA(n_components=2)\n",
    "\n",
    "# Fit it using our data\n",
    "pca.fit_transform(penguins_subset2)"
   ]
  },
  {
   "cell_type": "markdown",
   "id": "588432ac",
   "metadata": {},
   "source": [
    "The `pca.components_` store information about the lines we are going to project our data onto. "
   ]
  },
  {
   "cell_type": "code",
   "execution_count": 9,
   "id": "5c51d8aa",
   "metadata": {},
   "outputs": [
    {
     "data": {
      "text/plain": [
       "array([[ 0.70710678,  0.70710678],\n",
       "       [ 0.70710678, -0.70710678]])"
      ]
     },
     "execution_count": 9,
     "metadata": {},
     "output_type": "execute_result"
    }
   ],
   "source": [
    "pca.components_"
   ]
  },
  {
   "cell_type": "code",
   "execution_count": 10,
   "id": "c22f7ba2",
   "metadata": {},
   "outputs": [
    {
     "data": {
      "text/plain": [
       "(-2.426146908439037,\n",
       " 3.1053642574684917,\n",
       " -2.2772189966421617,\n",
       " 3.254292169265367)"
      ]
     },
     "execution_count": 10,
     "metadata": {},
     "output_type": "execute_result"
    },
    {
     "data": {
      "image/png": "[encoded data removed]",
      "text/plain": [
       "<Figure size 432x288 with 1 Axes>"
      ]
     },
     "metadata": {
      "needs_background": "light"
     },
     "output_type": "display_data"
    }
   ],
   "source": [
    "sns.scatterplot(data = penguins_subset2, \n",
    "                x = 'bill_length_mm', \n",
    "                y = 'flipper_length_mm', \n",
    "                hue = penguins.species)\n",
    "\n",
    "for i, comp in enumerate(pca.components_):\n",
    "    slope = comp[1]/comp[0]\n",
    "    plt.plot(np.array([-2,2]), slope*np.array([-2,2]))\n",
    "    \n",
    "plt.axis('square')"
   ]
  },
  {
   "cell_type": "markdown",
   "id": "062b0cca",
   "metadata": {},
   "source": [
    "A common way to look at the relative importance of the PC's is to draw these components as vectors with length based on the explained variance. "
   ]
  },
  {
   "cell_type": "code",
   "execution_count": 11,
   "id": "2fc13489",
   "metadata": {},
   "outputs": [
    {
     "data": {
      "text/plain": [
       "array([1.65309564, 0.34690436])"
      ]
     },
     "execution_count": 11,
     "metadata": {},
     "output_type": "execute_result"
    }
   ],
   "source": [
    "pca.explained_variance_"
   ]
  },
  {
   "cell_type": "code",
   "execution_count": 12,
   "id": "bd942cfe",
   "metadata": {},
   "outputs": [
    {
     "data": {
      "text/plain": [
       "(-2.426146908439037,\n",
       " 3.1053642574684917,\n",
       " -2.2772189966421617,\n",
       " 3.254292169265367)"
      ]
     },
     "execution_count": 12,
     "metadata": {},
     "output_type": "execute_result"
    },
    {
     "data": {
      "image/png": "[encoded data removed]",
      "text/plain": [
       "<Figure size 432x288 with 1 Axes>"
      ]
     },
     "metadata": {
      "needs_background": "light"
     },
     "output_type": "display_data"
    }
   ],
   "source": [
    "sns.scatterplot(data = penguins_subset2, \n",
    "                x = 'bill_length_mm', \n",
    "                y = 'flipper_length_mm', \n",
    "                hue = penguins.species)\n",
    "\n",
    "for i, (comp, var) in enumerate(zip(pca.components_, pca.explained_variance_)):\n",
    "    slope = comp[1]/comp[0]\n",
    "    plt.plot(np.array([-2,2]), slope*np.array([-2,2]))\n",
    "    \n",
    "    comp = comp * var  # scale component by its variance explanation power\n",
    "    plt.plot(\n",
    "        [0, comp[0]],\n",
    "        [0, comp[1]],\n",
    "        label=f\"Component {i}\",\n",
    "        linewidth=5,\n",
    "        color=f\"C{i + 2}\",\n",
    "    )\n",
    "\n",
    "plt.axis('square')"
   ]
  },
  {
   "cell_type": "markdown",
   "id": "18823506",
   "metadata": {},
   "source": [
    "The next important part are the PC's, which we can get from the `pca` object as follows. I'm going to put them in a dataframe to make drawing and visualization easier. "
   ]
  },
  {
   "cell_type": "code",
   "execution_count": 13,
   "id": "8899e455",
   "metadata": {},
   "outputs": [
    {
     "data": {
      "text/html": [
       "<div>\n",
       "<style scoped>\n",
       "    .dataframe tbody tr th:only-of-type {\n",
       "        vertical-align: middle;\n",
       "    }\n",
       "\n",
       "    .dataframe tbody tr th {\n",
       "        vertical-align: top;\n",
       "    }\n",
       "\n",
       "    .dataframe thead th {\n",
       "        text-align: right;\n",
       "    }\n",
       "</style>\n",
       "<table border=\"1\" class=\"dataframe\">\n",
       "  <thead>\n",
       "    <tr style=\"text-align: right;\">\n",
       "      <th></th>\n",
       "      <th>PC1</th>\n",
       "      <th>PC2</th>\n",
       "    </tr>\n",
       "  </thead>\n",
       "  <tbody>\n",
       "    <tr>\n",
       "      <th>0</th>\n",
       "      <td>-1.639995</td>\n",
       "      <td>0.374705</td>\n",
       "    </tr>\n",
       "    <tr>\n",
       "      <th>1</th>\n",
       "      <td>-1.336020</td>\n",
       "      <td>0.174171</td>\n",
       "    </tr>\n",
       "    <tr>\n",
       "      <th>2</th>\n",
       "      <td>-0.778522</td>\n",
       "      <td>-0.176445</td>\n",
       "    </tr>\n",
       "    <tr>\n",
       "      <th>3</th>\n",
       "      <td>-1.344909</td>\n",
       "      <td>-0.541029</td>\n",
       "    </tr>\n",
       "    <tr>\n",
       "      <th>4</th>\n",
       "      <td>-1.160077</td>\n",
       "      <td>-0.053493</td>\n",
       "    </tr>\n",
       "  </tbody>\n",
       "</table>\n",
       "</div>"
      ],
      "text/plain": [
       "        PC1       PC2\n",
       "0 -1.639995  0.374705\n",
       "1 -1.336020  0.174171\n",
       "2 -0.778522 -0.176445\n",
       "3 -1.344909 -0.541029\n",
       "4 -1.160077 -0.053493"
      ]
     },
     "execution_count": 13,
     "metadata": {},
     "output_type": "execute_result"
    }
   ],
   "source": [
    "# The transform function takes in bill,flipper data points, \n",
    "# and returns a PC1,PC2 coordinate for each one. \n",
    "penguins_pca = pca.transform(penguins_subset2)\n",
    "penguins_pca = pd.DataFrame(data = penguins_pca, columns = ['PC1', 'PC2'])\n",
    "penguins_pca.head()"
   ]
  },
  {
   "cell_type": "markdown",
   "id": "89914557",
   "metadata": {},
   "source": [
    "&#9989; **<font color=red>Do this:</font>** What are the PC coordinates for the first data point (index 0)?  Which quadrant would this point be drawn in? \n"
   ]
  },
  {
   "cell_type": "markdown",
   "id": "ec58f1ec",
   "metadata": {},
   "source": [
    "it would be in quadrant 2"
   ]
  },
  {
   "cell_type": "markdown",
   "id": "dc82f984",
   "metadata": {},
   "source": [
    "The PC's can be thought of as how far along their associated line the point would be projected. Here's one way to draw all the projections. "
   ]
  },
  {
   "cell_type": "code",
   "execution_count": 14,
   "id": "b0cb72e1",
   "metadata": {},
   "outputs": [
    {
     "data": {
      "text/plain": [
       "(-2.426146908439037,\n",
       " 3.1053642574684917,\n",
       " -2.2932134979887167,\n",
       " 3.238297667918812)"
      ]
     },
     "execution_count": 14,
     "metadata": {},
     "output_type": "execute_result"
    },
    {
     "data": {
      "image/png": "[encoded data removed]",
      "text/plain": [
       "<Figure size 432x288 with 1 Axes>"
      ]
     },
     "metadata": {
      "needs_background": "light"
     },
     "output_type": "display_data"
    }
   ],
   "source": [
    "sns.scatterplot(data = penguins_subset2, \n",
    "                x = 'bill_length_mm', \n",
    "                y = 'flipper_length_mm', \n",
    "                hue = penguins.species)\n",
    "\n",
    "\n",
    "# Show points projected onto the 1st PC line\n",
    "X1 = penguins_pca.PC1*pca.components_[0,0]\n",
    "Y1 = penguins_pca.PC1*pca.components_[0,1]\n",
    "\n",
    "plt.scatter(X1,Y1, marker = '+', color = 'violet')\n",
    "\n",
    "\n",
    "# Show points projected onto the 2st PC line\n",
    "X2 = penguins_pca.PC2*pca.components_[1,0]\n",
    "Y2 = penguins_pca.PC2*pca.components_[1,1]\n",
    "\n",
    "plt.scatter(X2,Y2, marker = 'o', color = 'pink')\n",
    "plt.axis('square')"
   ]
  },
  {
   "cell_type": "markdown",
   "id": "45523adf",
   "metadata": {},
   "source": [
    "Below is code that emphasizes the projected points. \n",
    "\n",
    "&#9989; **<font color=red>Do this:</font>** the value of `index` below is just picking out a different point in our data set.  Mess around with this number. How do the X and star points move around as you change `index`? "
   ]
  },
  {
   "cell_type": "code",
   "execution_count": 15,
   "id": "5bb442e1",
   "metadata": {},
   "outputs": [
    {
     "data": {
      "text/plain": [
       "<matplotlib.collections.PathCollection at 0x1e652f42700>"
      ]
     },
     "execution_count": 15,
     "metadata": {},
     "output_type": "execute_result"
    },
    {
     "data": {
      "image/png": "[encoded data removed]",
      "text/plain": [
       "<Figure size 432x288 with 1 Axes>"
      ]
     },
     "metadata": {
      "needs_background": "light"
     },
     "output_type": "display_data"
    }
   ],
   "source": [
    "sns.scatterplot(data = penguins_subset2, \n",
    "                x = 'bill_length_mm', \n",
    "                y = 'flipper_length_mm', \n",
    "                hue = penguins.species)\n",
    "plt.axis('square')\n",
    "\n",
    "for i, (comp, var) in enumerate(zip(pca.components_, pca.explained_variance_)):\n",
    "    slope = comp[1]/comp[0]\n",
    "    plt.plot(np.array([-2,2]), slope*np.array([-2,2]))\n",
    "\n",
    "#===========\n",
    "# Emphasize one point and its projections\n",
    "#===========\n",
    "\n",
    "index = 10 #<---------- play with this!\n",
    "\n",
    "# Here's one data point\n",
    "plt.scatter([penguins_subset2.iloc[index,0]],\n",
    "            [penguins_subset2.iloc[index,1]], \n",
    "            marker = 'D', color = 'black', s = 150)\n",
    "\n",
    "# Here's the projection of that point on PC1 (X shape)\n",
    "plt.scatter([X1[index]], [Y1[index]], \n",
    "           marker = 'X', color = 'purple', s = 150)\n",
    "\n",
    "# And here's the projection of that point on PC2 (star)\n",
    "plt.scatter([X2[index]], [Y2[index]], \n",
    "           marker = '*', color = 'purple', s = 150)\n",
    "\n"
   ]
  },
  {
   "cell_type": "markdown",
   "id": "bfa286c7",
   "metadata": {},
   "source": [
    "The star moves up and down the orange line and the X moves up and down the blue line giving the positions on the axis of the indexed point."
   ]
  },
  {
   "cell_type": "markdown",
   "id": "6730ab0e",
   "metadata": {},
   "source": [
    "Everything we just did is great for understanding what the PCA is doing, but in reality, we're usually going to be looking at the data in the transformed space. \n",
    "\n",
    "&#9989; **<font color=red>Do this:</font>** Make a scatter plot of PC1 and PC2. Color the points by `penguins.species`. What do you notice about how the points have moved from the (`bill`, `flipper`) scatter plot? "
   ]
  },
  {
   "cell_type": "code",
   "execution_count": 16,
   "id": "ce8b2025",
   "metadata": {},
   "outputs": [
    {
     "data": {
      "text/plain": [
       "<AxesSubplot:xlabel='PC1', ylabel='PC2'>"
      ]
     },
     "execution_count": 16,
     "metadata": {},
     "output_type": "execute_result"
    },
    {
     "data": {
      "image/png": "[encoded data removed]",
      "text/plain": [
       "<Figure size 432x288 with 1 Axes>"
      ]
     },
     "metadata": {
      "needs_background": "light"
     },
     "output_type": "display_data"
    }
   ],
   "source": [
    "# Your code here\n",
    "sns.scatterplot(data = penguins_pca, \n",
    "                x = 'PC1', \n",
    "                y = 'PC2', \n",
    "                hue = penguins.species)"
   ]
  },
  {
   "cell_type": "markdown",
   "id": "535149ec",
   "metadata": {},
   "source": [
    "## Penguins PCA with all columns\n",
    "\n",
    "We used only two columns above for visualization, but we can instead use all the input columns to run our PCA. "
   ]
  },
  {
   "cell_type": "code",
   "execution_count": 17,
   "id": "3c84f02f",
   "metadata": {},
   "outputs": [
    {
     "data": {
      "text/html": [
       "<div>\n",
       "<style scoped>\n",
       "    .dataframe tbody tr th:only-of-type {\n",
       "        vertical-align: middle;\n",
       "    }\n",
       "\n",
       "    .dataframe tbody tr th {\n",
       "        vertical-align: top;\n",
       "    }\n",
       "\n",
       "    .dataframe thead th {\n",
       "        text-align: right;\n",
       "    }\n",
       "</style>\n",
       "<table border=\"1\" class=\"dataframe\">\n",
       "  <thead>\n",
       "    <tr style=\"text-align: right;\">\n",
       "      <th></th>\n",
       "      <th>PC1</th>\n",
       "      <th>PC2</th>\n",
       "      <th>PC3</th>\n",
       "      <th>PC4</th>\n",
       "    </tr>\n",
       "  </thead>\n",
       "  <tbody>\n",
       "    <tr>\n",
       "      <th>0</th>\n",
       "      <td>-457.325096</td>\n",
       "      <td>13.376298</td>\n",
       "      <td>1.247904</td>\n",
       "      <td>-0.376474</td>\n",
       "    </tr>\n",
       "    <tr>\n",
       "      <th>1</th>\n",
       "      <td>-407.252228</td>\n",
       "      <td>9.205245</td>\n",
       "      <td>-0.032667</td>\n",
       "      <td>-1.090217</td>\n",
       "    </tr>\n",
       "    <tr>\n",
       "      <th>2</th>\n",
       "      <td>-957.044699</td>\n",
       "      <td>-8.128321</td>\n",
       "      <td>-2.491467</td>\n",
       "      <td>0.720823</td>\n",
       "    </tr>\n",
       "    <tr>\n",
       "      <th>3</th>\n",
       "      <td>-757.115824</td>\n",
       "      <td>-1.838910</td>\n",
       "      <td>-4.880569</td>\n",
       "      <td>2.073668</td>\n",
       "    </tr>\n",
       "    <tr>\n",
       "      <th>4</th>\n",
       "      <td>-557.177325</td>\n",
       "      <td>3.416994</td>\n",
       "      <td>-1.129267</td>\n",
       "      <td>2.629297</td>\n",
       "    </tr>\n",
       "  </tbody>\n",
       "</table>\n",
       "</div>"
      ],
      "text/plain": [
       "          PC1        PC2       PC3       PC4\n",
       "0 -457.325096  13.376298  1.247904 -0.376474\n",
       "1 -407.252228   9.205245 -0.032667 -1.090217\n",
       "2 -957.044699  -8.128321 -2.491467  0.720823\n",
       "3 -757.115824  -1.838910 -4.880569  2.073668\n",
       "4 -557.177325   3.416994 -1.129267  2.629297"
      ]
     },
     "execution_count": 17,
     "metadata": {},
     "output_type": "execute_result"
    }
   ],
   "source": [
    "pca = PCA(n_components=4)\n",
    "penguins_pca_all = pca.fit_transform(penguins_num)\n",
    "penguins_pca_all = pd.DataFrame(data = penguins_pca_all, \n",
    "                                columns = ['PC1', 'PC2', 'PC3', 'PC4'])\n",
    "penguins_pca_all.head()"
   ]
  },
  {
   "cell_type": "markdown",
   "id": "a57f44c9",
   "metadata": {},
   "source": [
    "&#9989; **<font color=red>Do this:</font>** Make a scatter plot of PC1 and PC2 using this new model, and again color the points by `penguins.species`. What do you notice about how the PC plot has changed from the previous setting? "
   ]
  },
  {
   "cell_type": "code",
   "execution_count": 18,
   "id": "65e8466a",
   "metadata": {},
   "outputs": [
    {
     "data": {
      "text/plain": [
       "<AxesSubplot:xlabel='PC1', ylabel='PC2'>"
      ]
     },
     "execution_count": 18,
     "metadata": {},
     "output_type": "execute_result"
    },
    {
     "data": {
      "image/png": "[encoded data removed]",
      "text/plain": [
       "<Figure size 432x288 with 1 Axes>"
      ]
     },
     "metadata": {
      "needs_background": "light"
     },
     "output_type": "display_data"
    }
   ],
   "source": [
    "# your code here\n",
    "sns.scatterplot(data = penguins_pca_all, \n",
    "                x = 'PC1', \n",
    "                y = 'PC2', \n",
    "                hue = penguins.species)"
   ]
  },
  {
   "cell_type": "markdown",
   "id": "748cc09f",
   "metadata": {},
   "source": [
    "\n",
    "![Stop Icon](https://upload.wikimedia.org/wikipedia/commons/thumb/1/1e/Vienna_Convention_road_sign_B2a.svg/180px-Vienna_Convention_road_sign_B2a.svg.png)\n",
    "\n",
    "Great, you got to here! Hang out for a bit, there's more lecture before we go on to the next portion. "
   ]
  },
  {
   "cell_type": "markdown",
   "id": "450cfbaa",
   "metadata": {},
   "source": [
    "# PCR on Hitters Data"
   ]
  },
  {
   "cell_type": "markdown",
   "id": "81f9a257",
   "metadata": {},
   "source": [
    "# Loading in the data\n",
    "\n",
    "Ok, here we go, let's play with a baseball data set again. Note this cleanup is all the same as the last lab. "
   ]
  },
  {
   "cell_type": "code",
   "execution_count": 19,
   "id": "3ceeb83a",
   "metadata": {},
   "outputs": [
    {
     "name": "stdout",
     "output_type": "stream",
     "text": [
      "<class 'pandas.core.frame.DataFrame'>\n",
      "Int64Index: 263 entries, 1 to 321\n",
      "Data columns (total 20 columns):\n",
      " #   Column     Non-Null Count  Dtype  \n",
      "---  ------     --------------  -----  \n",
      " 0   AtBat      263 non-null    int64  \n",
      " 1   Hits       263 non-null    int64  \n",
      " 2   HmRun      263 non-null    int64  \n",
      " 3   Runs       263 non-null    int64  \n",
      " 4   RBI        263 non-null    int64  \n",
      " 5   Walks      263 non-null    int64  \n",
      " 6   Years      263 non-null    int64  \n",
      " 7   CAtBat     263 non-null    int64  \n",
      " 8   CHits      263 non-null    int64  \n",
      " 9   CHmRun     263 non-null    int64  \n",
      " 10  CRuns      263 non-null    int64  \n",
      " 11  CRBI       263 non-null    int64  \n",
      " 12  CWalks     263 non-null    int64  \n",
      " 13  League     263 non-null    object \n",
      " 14  Division   263 non-null    object \n",
      " 15  PutOuts    263 non-null    int64  \n",
      " 16  Assists    263 non-null    int64  \n",
      " 17  Errors     263 non-null    int64  \n",
      " 18  Salary     263 non-null    float64\n",
      " 19  NewLeague  263 non-null    object \n",
      "dtypes: float64(1), int64(16), object(3)\n",
      "memory usage: 43.1+ KB\n"
     ]
    }
   ],
   "source": [
    "df = pd.read_csv('Hitters.csv').dropna().drop('Player', axis = 1)\n",
    "df.info()\n",
    "dummies = pd.get_dummies(df[['League', 'Division', 'NewLeague']])"
   ]
  },
  {
   "cell_type": "code",
   "execution_count": 20,
   "id": "4672d6f6",
   "metadata": {},
   "outputs": [
    {
     "name": "stdout",
     "output_type": "stream",
     "text": [
      "<class 'pandas.core.frame.DataFrame'>\n",
      "Int64Index: 263 entries, 1 to 321\n",
      "Data columns (total 19 columns):\n",
      " #   Column       Non-Null Count  Dtype  \n",
      "---  ------       --------------  -----  \n",
      " 0   AtBat        263 non-null    float64\n",
      " 1   Hits         263 non-null    float64\n",
      " 2   HmRun        263 non-null    float64\n",
      " 3   Runs         263 non-null    float64\n",
      " 4   RBI          263 non-null    float64\n",
      " 5   Walks        263 non-null    float64\n",
      " 6   Years        263 non-null    float64\n",
      " 7   CAtBat       263 non-null    float64\n",
      " 8   CHits        263 non-null    float64\n",
      " 9   CHmRun       263 non-null    float64\n",
      " 10  CRuns        263 non-null    float64\n",
      " 11  CRBI         263 non-null    float64\n",
      " 12  CWalks       263 non-null    float64\n",
      " 13  PutOuts      263 non-null    float64\n",
      " 14  Assists      263 non-null    float64\n",
      " 15  Errors       263 non-null    float64\n",
      " 16  League_N     263 non-null    uint8  \n",
      " 17  Division_W   263 non-null    uint8  \n",
      " 18  NewLeague_N  263 non-null    uint8  \n",
      "dtypes: float64(16), uint8(3)\n",
      "memory usage: 35.7 KB\n"
     ]
    }
   ],
   "source": [
    "y = df.Salary\n",
    "\n",
    "# Drop the column with the independent variable (Salary), and columns for which we created dummy variables\n",
    "X_ = df.drop(['Salary', 'League', 'Division', 'NewLeague'], axis = 1).astype('float64')\n",
    "\n",
    "# Define the feature set X.\n",
    "X = pd.concat([X_, dummies[['League_N', 'Division_W', 'NewLeague_N']]], axis = 1)\n",
    "\n",
    "X.info()"
   ]
  },
  {
   "cell_type": "markdown",
   "id": "58b0c245",
   "metadata": {},
   "source": [
    "# Principal Component Regression \n",
    "\n",
    "Ok, let's take a hard left turn and go try out some of the dimension reduction methods from Section 6.3. `Scikit-learn` doesn't have a built in function to do PCR (aka PCA and then regression) but it's just as easy for us to do it ourselves. \n",
    "\n",
    "First step, let's figure out the `PCA` function."
   ]
  },
  {
   "cell_type": "code",
   "execution_count": 21,
   "id": "ebcd8765",
   "metadata": {},
   "outputs": [],
   "source": [
    "from sklearn.decomposition import PCA\n",
    "from sklearn.preprocessing import scale #<--- this does the scaling of variables for us\n"
   ]
  },
  {
   "cell_type": "code",
   "execution_count": 22,
   "id": "4faeaa02",
   "metadata": {},
   "outputs": [
    {
     "name": "stdout",
     "output_type": "stream",
     "text": [
      "(263, 19)\n",
      "(263, 19)\n"
     ]
    }
   ],
   "source": [
    "pca = PCA()\n",
    "print(X.shape)\n",
    "X_reduced = pca.fit_transform(scale(X))\n",
    "print(X_reduced.shape)"
   ]
  },
  {
   "cell_type": "markdown",
   "id": "1d1ed73a",
   "metadata": {},
   "source": [
    "\"But Dr. Munch, you said PCA was supposed to do dimension reduction, why is my feature output the same size?\"\n",
    "\n",
    "Glad you asked, young data scientist. The PCA command outputs all of the PCs, all the way up through $p=19$ the original number of dimensions. \n",
    "\n",
    "So, if I want the first three PCs, I can get them out as follows. I'll put it in a data frame just to add column labels, but you don't need to do that."
   ]
  },
  {
   "cell_type": "code",
   "execution_count": 23,
   "id": "3a3c4249",
   "metadata": {},
   "outputs": [
    {
     "data": {
      "text/html": [
       "<div>\n",
       "<style scoped>\n",
       "    .dataframe tbody tr th:only-of-type {\n",
       "        vertical-align: middle;\n",
       "    }\n",
       "\n",
       "    .dataframe tbody tr th {\n",
       "        vertical-align: top;\n",
       "    }\n",
       "\n",
       "    .dataframe thead th {\n",
       "        text-align: right;\n",
       "    }\n",
       "</style>\n",
       "<table border=\"1\" class=\"dataframe\">\n",
       "  <thead>\n",
       "    <tr style=\"text-align: right;\">\n",
       "      <th></th>\n",
       "      <th>Z1</th>\n",
       "      <th>Z2</th>\n",
       "      <th>Z3</th>\n",
       "    </tr>\n",
       "  </thead>\n",
       "  <tbody>\n",
       "    <tr>\n",
       "      <th>0</th>\n",
       "      <td>-0.009649</td>\n",
       "      <td>1.870522</td>\n",
       "      <td>1.265145</td>\n",
       "    </tr>\n",
       "    <tr>\n",
       "      <th>1</th>\n",
       "      <td>0.411434</td>\n",
       "      <td>-2.429422</td>\n",
       "      <td>-0.909193</td>\n",
       "    </tr>\n",
       "    <tr>\n",
       "      <th>2</th>\n",
       "      <td>3.466822</td>\n",
       "      <td>0.825947</td>\n",
       "      <td>0.555469</td>\n",
       "    </tr>\n",
       "    <tr>\n",
       "      <th>3</th>\n",
       "      <td>-2.558317</td>\n",
       "      <td>-0.230984</td>\n",
       "      <td>0.519642</td>\n",
       "    </tr>\n",
       "    <tr>\n",
       "      <th>4</th>\n",
       "      <td>1.027702</td>\n",
       "      <td>-1.573537</td>\n",
       "      <td>1.331382</td>\n",
       "    </tr>\n",
       "    <tr>\n",
       "      <th>...</th>\n",
       "      <td>...</td>\n",
       "      <td>...</td>\n",
       "      <td>...</td>\n",
       "    </tr>\n",
       "    <tr>\n",
       "      <th>258</th>\n",
       "      <td>-0.331167</td>\n",
       "      <td>-0.165663</td>\n",
       "      <td>0.775890</td>\n",
       "    </tr>\n",
       "    <tr>\n",
       "      <th>259</th>\n",
       "      <td>3.246183</td>\n",
       "      <td>-0.543315</td>\n",
       "      <td>1.209150</td>\n",
       "    </tr>\n",
       "    <tr>\n",
       "      <th>260</th>\n",
       "      <td>-1.094609</td>\n",
       "      <td>-0.751386</td>\n",
       "      <td>-0.935937</td>\n",
       "    </tr>\n",
       "    <tr>\n",
       "      <th>261</th>\n",
       "      <td>1.977682</td>\n",
       "      <td>-2.184517</td>\n",
       "      <td>-0.282012</td>\n",
       "    </tr>\n",
       "    <tr>\n",
       "      <th>262</th>\n",
       "      <td>1.833002</td>\n",
       "      <td>-0.301097</td>\n",
       "      <td>-1.055323</td>\n",
       "    </tr>\n",
       "  </tbody>\n",
       "</table>\n",
       "<p>263 rows × 3 columns</p>\n",
       "</div>"
      ],
      "text/plain": [
       "           Z1        Z2        Z3\n",
       "0   -0.009649  1.870522  1.265145\n",
       "1    0.411434 -2.429422 -0.909193\n",
       "2    3.466822  0.825947  0.555469\n",
       "3   -2.558317 -0.230984  0.519642\n",
       "4    1.027702 -1.573537  1.331382\n",
       "..        ...       ...       ...\n",
       "258 -0.331167 -0.165663  0.775890\n",
       "259  3.246183 -0.543315  1.209150\n",
       "260 -1.094609 -0.751386 -0.935937\n",
       "261  1.977682 -2.184517 -0.282012\n",
       "262  1.833002 -0.301097 -1.055323\n",
       "\n",
       "[263 rows x 3 columns]"
      ]
     },
     "execution_count": 23,
     "metadata": {},
     "output_type": "execute_result"
    }
   ],
   "source": [
    "First3PCs = X_reduced[:,:3]\n",
    "\n",
    "pd.DataFrame(First3PCs, columns = ['Z1','Z2', 'Z3'])"
   ]
  },
  {
   "cell_type": "code",
   "execution_count": 24,
   "id": "492f9f6e",
   "metadata": {},
   "outputs": [
    {
     "data": {
      "text/html": [
       "<div>\n",
       "<style scoped>\n",
       "    .dataframe tbody tr th:only-of-type {\n",
       "        vertical-align: middle;\n",
       "    }\n",
       "\n",
       "    .dataframe tbody tr th {\n",
       "        vertical-align: top;\n",
       "    }\n",
       "\n",
       "    .dataframe thead th {\n",
       "        text-align: right;\n",
       "    }\n",
       "</style>\n",
       "<table border=\"1\" class=\"dataframe\">\n",
       "  <thead>\n",
       "    <tr style=\"text-align: right;\">\n",
       "      <th></th>\n",
       "      <th>X1</th>\n",
       "      <th>X2</th>\n",
       "      <th>X3</th>\n",
       "    </tr>\n",
       "  </thead>\n",
       "  <tbody>\n",
       "    <tr>\n",
       "      <th>0</th>\n",
       "      <td>315.0</td>\n",
       "      <td>81.0</td>\n",
       "      <td>7.0</td>\n",
       "    </tr>\n",
       "    <tr>\n",
       "      <th>1</th>\n",
       "      <td>479.0</td>\n",
       "      <td>130.0</td>\n",
       "      <td>18.0</td>\n",
       "    </tr>\n",
       "    <tr>\n",
       "      <th>2</th>\n",
       "      <td>496.0</td>\n",
       "      <td>141.0</td>\n",
       "      <td>20.0</td>\n",
       "    </tr>\n",
       "    <tr>\n",
       "      <th>3</th>\n",
       "      <td>321.0</td>\n",
       "      <td>87.0</td>\n",
       "      <td>10.0</td>\n",
       "    </tr>\n",
       "    <tr>\n",
       "      <th>4</th>\n",
       "      <td>594.0</td>\n",
       "      <td>169.0</td>\n",
       "      <td>4.0</td>\n",
       "    </tr>\n",
       "    <tr>\n",
       "      <th>...</th>\n",
       "      <td>...</td>\n",
       "      <td>...</td>\n",
       "      <td>...</td>\n",
       "    </tr>\n",
       "    <tr>\n",
       "      <th>258</th>\n",
       "      <td>497.0</td>\n",
       "      <td>127.0</td>\n",
       "      <td>7.0</td>\n",
       "    </tr>\n",
       "    <tr>\n",
       "      <th>259</th>\n",
       "      <td>492.0</td>\n",
       "      <td>136.0</td>\n",
       "      <td>5.0</td>\n",
       "    </tr>\n",
       "    <tr>\n",
       "      <th>260</th>\n",
       "      <td>475.0</td>\n",
       "      <td>126.0</td>\n",
       "      <td>3.0</td>\n",
       "    </tr>\n",
       "    <tr>\n",
       "      <th>261</th>\n",
       "      <td>573.0</td>\n",
       "      <td>144.0</td>\n",
       "      <td>9.0</td>\n",
       "    </tr>\n",
       "    <tr>\n",
       "      <th>262</th>\n",
       "      <td>631.0</td>\n",
       "      <td>170.0</td>\n",
       "      <td>9.0</td>\n",
       "    </tr>\n",
       "  </tbody>\n",
       "</table>\n",
       "<p>263 rows × 3 columns</p>\n",
       "</div>"
      ],
      "text/plain": [
       "        X1     X2    X3\n",
       "0    315.0   81.0   7.0\n",
       "1    479.0  130.0  18.0\n",
       "2    496.0  141.0  20.0\n",
       "3    321.0   87.0  10.0\n",
       "4    594.0  169.0   4.0\n",
       "..     ...    ...   ...\n",
       "258  497.0  127.0   7.0\n",
       "259  492.0  136.0   5.0\n",
       "260  475.0  126.0   3.0\n",
       "261  573.0  144.0   9.0\n",
       "262  631.0  170.0   9.0\n",
       "\n",
       "[263 rows x 3 columns]"
      ]
     },
     "execution_count": 24,
     "metadata": {},
     "output_type": "execute_result"
    }
   ],
   "source": [
    "pd.DataFrame(np.array(X)[:,:3], columns = ['X1','X2', 'X3'])"
   ]
  },
  {
   "cell_type": "markdown",
   "id": "60fe7c33",
   "metadata": {},
   "source": [
    "Now we can just do regression on the PCs like before. "
   ]
  },
  {
   "cell_type": "code",
   "execution_count": 25,
   "id": "cf7c2332",
   "metadata": {},
   "outputs": [
    {
     "data": {
      "text/plain": [
       "117234.531905816"
      ]
     },
     "execution_count": 25,
     "metadata": {},
     "output_type": "execute_result"
    }
   ],
   "source": [
    "from sklearn.linear_model import LinearRegression\n",
    "\n",
    "regr = LinearRegression()\n",
    "regr.fit(X_reduced[:,:3], y)\n",
    "mean_squared_error(y,regr.predict(X_reduced[:,:3]))"
   ]
  },
  {
   "cell_type": "markdown",
   "id": "a24225df",
   "metadata": {},
   "source": [
    "&#9989; **<font color=red>Do this:</font>** My code above contains the rookie mistake of only reporting training error. Write modified code to return the 10-fold CV error of linear regression on the first 3 PCs."
   ]
  },
  {
   "cell_type": "code",
   "execution_count": 26,
   "id": "d16c967f",
   "metadata": {},
   "outputs": [
    {
     "name": "stdout",
     "output_type": "stream",
     "text": [
      "-125936.4971858609\n"
     ]
    }
   ],
   "source": [
    "# Your code here #\n",
    "from sklearn.model_selection import cross_val_score\n",
    "\n",
    "regr  = LinearRegression()\n",
    "print(np.mean(cross_val_score(regr, First3PCs, y, scoring='neg_mean_squared_error', cv=10)))\n",
    "\n",
    "\n",
    "# Hint: while not necessary, the following command might make \n",
    "# for some massively shortened code.\n",
    "# If using this command, be sure to set \n",
    "#    scoring='neg_mean_squared_error'\n",
    "# to force it to chose the best model using MSE. Otherwise, \n",
    "# the internal default uses R^2. \n",
    "\n"
   ]
  },
  {
   "cell_type": "markdown",
   "id": "05f07704",
   "metadata": {},
   "source": [
    "&#9989; **<font color=red>Do this:</font>** Take the code you figured out above to get the score for 10-fold CV on the first 3 PCs, and include it in the for-loop below to see how the MSE changes as the number of PCs you use changes. "
   ]
  },
  {
   "cell_type": "code",
   "execution_count": 27,
   "id": "885f317f",
   "metadata": {},
   "outputs": [
    {
     "data": {
      "image/png": "[encoded data removed]",
      "text/plain": [
       "<Figure size 432x288 with 1 Axes>"
      ]
     },
     "metadata": {
      "needs_background": "light"
     },
     "output_type": "display_data"
    }
   ],
   "source": [
    "n = len(X_reduced)\n",
    "regr = LinearRegression()\n",
    "mse = []\n",
    "\n",
    "# Calculate MSE using CV for the 19 principle components, adding one component at a time.\n",
    "for i in np.arange(1, 20): # i is the number of principal components to use each time\n",
    "    # ====\n",
    "    score = cross_val_score(regr, X_reduced[:,:i], y, cv = 10, scoring='neg_mean_squared_error') # Your code from above goes here!\n",
    "    # ====\n",
    "\n",
    "    mse.append(np.mean(-score))\n",
    "    \n",
    "# Plot results    \n",
    "plt.plot(mse, '-v')\n",
    "plt.xlabel('Number of principal components in regression')\n",
    "plt.ylabel('MSE')\n",
    "plt.title('Predicting Salary')\n",
    "plt.xlim(xmin=-1);"
   ]
  },
  {
   "cell_type": "code",
   "execution_count": 28,
   "id": "b8a97269",
   "metadata": {},
   "outputs": [
    {
     "data": {
      "text/plain": [
       "17"
      ]
     },
     "execution_count": 28,
     "metadata": {},
     "output_type": "execute_result"
    }
   ],
   "source": [
    "mse.index(min(mse))"
   ]
  },
  {
   "cell_type": "markdown",
   "id": "3a735bf9",
   "metadata": {},
   "source": [
    "&#9989; **<font color=red>Q:</font>** Based on the graph you generated above, how many PCs do you think you should use? \n",
    "\n",
    "*Note: Based on graphs I generated, I can see a few different options for what I might decide to use for number of principal components. This is one of those cases where you potentially have a different answer and/or reasoning from your neighbor, so I enourage you to talk this one through with your group.*\n",
    "\n",
    "\n",
    "*Your answer here*"
   ]
  },
  {
   "cell_type": "markdown",
   "id": "f3d1d9fe",
   "metadata": {},
   "source": [
    "&#9989; **<font color=red>Q:</font>** Of the models you've built so far (Ridge, Lasso, and PCR), which would you choose to use and why? \n",
    "\n",
    "*Note: This goes in the no-one-right-answer bucket. Go argue with your group.*\n",
    "\n",
    "\n",
    "*Your answer here*"
   ]
  },
  {
   "cell_type": "markdown",
   "id": "66f79113",
   "metadata": {},
   "source": [
    "\n",
    "\n",
    "-----\n",
    "### Congratulations, we're done!\n",
    "Written by Dr. Liz Munch, Michigan State University\n",
    "\n",
    "<a rel=\"license\" href=\"http://creativecommons.org/licenses/by-nc/4.0/\"><img alt=\"Creative Commons License\" style=\"border-width:0\" src=\"https://i.creativecommons.org/l/by-nc/4.0/88x31.png\" /></a><br />This work is licensed under a <a rel=\"license\" href=\"http://creativecommons.org/licenses/by-nc/4.0/\">Creative Commons Attribution-NonCommercial 4.0 International License</a>."
   ]
  },
  {
   "cell_type": "code",
   "execution_count": null,
   "id": "3fb8354f",
   "metadata": {},
   "outputs": [],
   "source": []
  }
 ],
 "metadata": {
  "kernelspec": {
   "display_name": "Python 3 (ipykernel)",
   "language": "python",
   "name": "python3"
  },
  "language_info": {
   "codemirror_mode": {
    "name": "ipython",
    "version": 3
   },
   "file_extension": ".py",
   "mimetype": "text/x-python",
   "name": "python",
   "nbconvert_exporter": "python",
   "pygments_lexer": "ipython3",
   "version": "3.9.12"
  }
 },
 "nbformat": 4,
 "nbformat_minor": 5
}
